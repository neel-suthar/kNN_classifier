{
  "nbformat": 4,
  "nbformat_minor": 0,
  "metadata": {
    "colab": {
      "name": "breast-cancer.ipynb",
      "provenance": [],
      "collapsed_sections": []
    },
    "kernelspec": {
      "name": "python3",
      "display_name": "Python 3"
    }
  },
  "cells": [
    {
      "cell_type": "code",
      "metadata": {
        "id": "SD9rX2556QBI",
        "colab_type": "code",
        "colab": {}
      },
      "source": [
        "import copy\n",
        "import random\n",
        "from math import sqrt\n",
        "from csv import reader\n",
        "from decimal import Decimal"
      ],
      "execution_count": null,
      "outputs": []
    },
    {
      "cell_type": "code",
      "metadata": {
        "id": "v9YEiWojZCuB",
        "colab_type": "code",
        "colab": {}
      },
      "source": [
        "#load data from csv file\n",
        "def load_csv(filename):\n",
        "\tdataset = list()\n",
        "\twith open(filename, 'r') as file:\n",
        "\t\tcsv_reader = reader(file)\n",
        "\t\tfor row in csv_reader:\n",
        "\t\t\tif not row or \"?\" in row:\n",
        "\t\t\t\tcontinue\n",
        "\t\t\tdataset.append(row)\n",
        "\treturn dataset"
      ],
      "execution_count": null,
      "outputs": []
    },
    {
      "cell_type": "code",
      "metadata": {
        "id": "AaQNJc8gbWIz",
        "colab_type": "code",
        "colab": {
          "base_uri": "https://localhost:8080/",
          "height": 71
        },
        "outputId": "0a27009a-cf7c-4d0c-a5fe-12db44f0cbf3"
      },
      "source": [
        "filename = 'breast-cancer.csv'\n",
        "dataset = load_csv(filename)\n",
        "print(len(dataset))\n",
        "print(dataset)"
      ],
      "execution_count": null,
      "outputs": [
        {
          "output_type": "stream",
          "text": [
            "277\n",
            "[['no-recurrence-events', '30-39', 'premeno', '30-34', '0-2', 'no', '3', 'left', 'left_low', 'no'], ['no-recurrence-events', '40-49', 'premeno', '20-24', '0-2', 'no', '2', 'right', 'right_up', 'no'], ['no-recurrence-events', '40-49', 'premeno', '20-24', '0-2', 'no', '2', 'left', 'left_low', 'no'], ['no-recurrence-events', '60-69', 'ge40', '15-19', '0-2', 'no', '2', 'right', 'left_up', 'no'], ['no-recurrence-events', '40-49', 'premeno', '0-4', '0-2', 'no', '2', 'right', 'right_low', 'no'], ['no-recurrence-events', '60-69', 'ge40', '15-19', '0-2', 'no', '2', 'left', 'left_low', 'no'], ['no-recurrence-events', '50-59', 'premeno', '25-29', '0-2', 'no', '2', 'left', 'left_low', 'no'], ['no-recurrence-events', '60-69', 'ge40', '20-24', '0-2', 'no', '1', 'left', 'left_low', 'no'], ['no-recurrence-events', '40-49', 'premeno', '50-54', '0-2', 'no', '2', 'left', 'left_low', 'no'], ['no-recurrence-events', '40-49', 'premeno', '20-24', '0-2', 'no', '2', 'right', 'left_up', 'no'], ['no-recurrence-events', '40-49', 'premeno', '0-4', '0-2', 'no', '3', 'left', 'central', 'no'], ['no-recurrence-events', '50-59', 'ge40', '25-29', '0-2', 'no', '2', 'left', 'left_low', 'no'], ['no-recurrence-events', '60-69', 'lt40', '10-14', '0-2', 'no', '1', 'left', 'right_up', 'no'], ['no-recurrence-events', '50-59', 'ge40', '25-29', '0-2', 'no', '3', 'left', 'right_up', 'no'], ['no-recurrence-events', '40-49', 'premeno', '30-34', '0-2', 'no', '3', 'left', 'left_up', 'no'], ['no-recurrence-events', '60-69', 'lt40', '30-34', '0-2', 'no', '1', 'left', 'left_low', 'no'], ['no-recurrence-events', '40-49', 'premeno', '15-19', '0-2', 'no', '2', 'left', 'left_low', 'no'], ['no-recurrence-events', '50-59', 'premeno', '30-34', '0-2', 'no', '3', 'left', 'left_low', 'no'], ['no-recurrence-events', '60-69', 'ge40', '30-34', '0-2', 'no', '3', 'left', 'left_low', 'no'], ['no-recurrence-events', '50-59', 'ge40', '30-34', '0-2', 'no', '1', 'right', 'right_up', 'no'], ['no-recurrence-events', '50-59', 'ge40', '40-44', '0-2', 'no', '2', 'left', 'left_low', 'no'], ['no-recurrence-events', '60-69', 'ge40', '15-19', '0-2', 'no', '2', 'left', 'left_low', 'no'], ['no-recurrence-events', '30-39', 'premeno', '25-29', '0-2', 'no', '2', 'right', 'left_low', 'no'], ['no-recurrence-events', '50-59', 'premeno', '40-44', '0-2', 'no', '2', 'left', 'left_up', 'no'], ['no-recurrence-events', '50-59', 'premeno', '35-39', '0-2', 'no', '2', 'right', 'left_up', 'no'], ['no-recurrence-events', '40-49', 'premeno', '25-29', '0-2', 'no', '2', 'left', 'left_up', 'no'], ['no-recurrence-events', '50-59', 'premeno', '20-24', '0-2', 'no', '1', 'left', 'left_low', 'no'], ['no-recurrence-events', '60-69', 'ge40', '25-29', '0-2', 'no', '3', 'right', 'left_up', 'no'], ['no-recurrence-events', '40-49', 'premeno', '40-44', '0-2', 'no', '2', 'right', 'left_low', 'no'], ['no-recurrence-events', '60-69', 'ge40', '30-34', '0-2', 'no', '2', 'left', 'left_low', 'no'], ['no-recurrence-events', '50-59', 'ge40', '40-44', '0-2', 'no', '3', 'right', 'left_up', 'no'], ['no-recurrence-events', '50-59', 'premeno', '15-19', '0-2', 'no', '2', 'right', 'left_low', 'no'], ['no-recurrence-events', '50-59', 'premeno', '10-14', '0-2', 'no', '3', 'left', 'left_low', 'no'], ['no-recurrence-events', '50-59', 'ge40', '10-14', '0-2', 'no', '1', 'right', 'left_up', 'no'], ['no-recurrence-events', '50-59', 'ge40', '10-14', '0-2', 'no', '1', 'left', 'left_up', 'no'], ['no-recurrence-events', '30-39', 'premeno', '30-34', '0-2', 'no', '2', 'left', 'left_up', 'no'], ['no-recurrence-events', '50-59', 'ge40', '0-4', '0-2', 'no', '2', 'left', 'central', 'no'], ['no-recurrence-events', '50-59', 'ge40', '15-19', '0-2', 'no', '1', 'right', 'central', 'no'], ['no-recurrence-events', '40-49', 'premeno', '10-14', '0-2', 'no', '2', 'left', 'left_low', 'no'], ['no-recurrence-events', '40-49', 'premeno', '30-34', '0-2', 'no', '1', 'left', 'left_low', 'no'], ['no-recurrence-events', '50-59', 'ge40', '20-24', '0-2', 'no', '1', 'right', 'left_low', 'no'], ['no-recurrence-events', '60-69', 'ge40', '25-29', '0-2', 'no', '2', 'left', 'left_low', 'no'], ['no-recurrence-events', '60-69', 'ge40', '5-9', '0-2', 'no', '1', 'left', 'central', 'no'], ['no-recurrence-events', '40-49', 'premeno', '10-14', '0-2', 'no', '2', 'left', 'left_up', 'no'], ['no-recurrence-events', '50-59', 'ge40', '50-54', '0-2', 'no', '1', 'right', 'right_up', 'no'], ['no-recurrence-events', '50-59', 'ge40', '30-34', '0-2', 'no', '1', 'left', 'left_up', 'no'], ['no-recurrence-events', '40-49', 'premeno', '25-29', '0-2', 'no', '2', 'right', 'left_low', 'no'], ['no-recurrence-events', '50-59', 'premeno', '25-29', '0-2', 'no', '1', 'right', 'left_up', 'no'], ['no-recurrence-events', '40-49', 'premeno', '20-24', '0-2', 'no', '1', 'right', 'right_up', 'no'], ['no-recurrence-events', '40-49', 'premeno', '20-24', '0-2', 'no', '1', 'right', 'left_low', 'no'], ['no-recurrence-events', '50-59', 'lt40', '15-19', '0-2', 'no', '2', 'left', 'left_low', 'no'], ['no-recurrence-events', '30-39', 'premeno', '20-24', '0-2', 'no', '2', 'left', 'right_low', 'no'], ['no-recurrence-events', '50-59', 'premeno', '15-19', '0-2', 'no', '1', 'left', 'left_low', 'no'], ['no-recurrence-events', '70-79', 'ge40', '20-24', '0-2', 'no', '3', 'left', 'left_up', 'no'], ['no-recurrence-events', '70-79', 'ge40', '40-44', '0-2', 'no', '1', 'right', 'left_up', 'no'], ['no-recurrence-events', '70-79', 'ge40', '40-44', '0-2', 'no', '1', 'right', 'right_up', 'no'], ['no-recurrence-events', '50-59', 'ge40', '0-4', '0-2', 'no', '1', 'right', 'central', 'no'], ['no-recurrence-events', '50-59', 'ge40', '5-9', '0-2', 'no', '2', 'right', 'right_up', 'no'], ['no-recurrence-events', '60-69', 'ge40', '30-34', '0-2', 'no', '1', 'left', 'left_up', 'no'], ['no-recurrence-events', '60-69', 'ge40', '15-19', '0-2', 'no', '1', 'right', 'left_up', 'no'], ['no-recurrence-events', '40-49', 'premeno', '20-24', '0-2', 'no', '2', 'left', 'central', 'no'], ['no-recurrence-events', '40-49', 'premeno', '10-14', '0-2', 'no', '1', 'right', 'right_low', 'no'], ['no-recurrence-events', '50-59', 'ge40', '0-4', '0-2', 'no', '1', 'left', 'left_low', 'no'], ['no-recurrence-events', '20-29', 'premeno', '35-39', '0-2', 'no', '2', 'right', 'right_up', 'no'], ['no-recurrence-events', '40-49', 'premeno', '25-29', '0-2', 'no', '1', 'left', 'right_low', 'no'], ['no-recurrence-events', '40-49', 'premeno', '10-14', '0-2', 'no', '1', 'right', 'left_up', 'no'], ['no-recurrence-events', '40-49', 'premeno', '25-29', '0-2', 'no', '1', 'right', 'right_low', 'no'], ['no-recurrence-events', '50-59', 'ge40', '20-24', '0-2', 'no', '3', 'left', 'left_up', 'no'], ['no-recurrence-events', '50-59', 'ge40', '35-39', '0-2', 'no', '3', 'left', 'left_low', 'no'], ['no-recurrence-events', '60-69', 'ge40', '50-54', '0-2', 'no', '2', 'left', 'left_low', 'no'], ['no-recurrence-events', '60-69', 'ge40', '10-14', '0-2', 'no', '1', 'left', 'left_low', 'no'], ['no-recurrence-events', '40-49', 'premeno', '25-29', '0-2', 'no', '2', 'right', 'left_up', 'no'], ['no-recurrence-events', '60-69', 'ge40', '20-24', '0-2', 'no', '2', 'left', 'left_up', 'no'], ['no-recurrence-events', '50-59', 'premeno', '15-19', '0-2', 'no', '2', 'right', 'right_low', 'no'], ['no-recurrence-events', '30-39', 'premeno', '5-9', '0-2', 'no', '2', 'left', 'right_low', 'no'], ['no-recurrence-events', '50-59', 'ge40', '10-14', '0-2', 'no', '1', 'left', 'left_low', 'no'], ['no-recurrence-events', '50-59', 'ge40', '10-14', '0-2', 'no', '2', 'left', 'left_low', 'no'], ['no-recurrence-events', '30-39', 'premeno', '25-29', '0-2', 'no', '1', 'left', 'central', 'no'], ['no-recurrence-events', '50-59', 'premeno', '25-29', '0-2', 'no', '2', 'left', 'left_low', 'no'], ['no-recurrence-events', '40-49', 'premeno', '25-29', '0-2', 'no', '2', 'right', 'central', 'no'], ['no-recurrence-events', '50-59', 'ge40', '10-14', '0-2', 'no', '2', 'right', 'left_low', 'no'], ['no-recurrence-events', '60-69', 'ge40', '10-14', '0-2', 'no', '1', 'left', 'left_up', 'no'], ['no-recurrence-events', '60-69', 'ge40', '15-19', '0-2', 'no', '2', 'right', 'left_low', 'no'], ['no-recurrence-events', '50-59', 'ge40', '15-19', '0-2', 'no', '2', 'right', 'left_low', 'no'], ['no-recurrence-events', '40-49', 'premeno', '20-24', '0-2', 'no', '1', 'left', 'right_low', 'no'], ['no-recurrence-events', '50-59', 'ge40', '35-39', '0-2', 'no', '3', 'left', 'left_up', 'no'], ['no-recurrence-events', '60-69', 'ge40', '25-29', '0-2', 'no', '2', 'right', 'left_low', 'no'], ['no-recurrence-events', '70-79', 'ge40', '0-4', '0-2', 'no', '1', 'left', 'right_low', 'no'], ['no-recurrence-events', '50-59', 'ge40', '20-24', '0-2', 'no', '3', 'right', 'left_up', 'no'], ['no-recurrence-events', '40-49', 'premeno', '40-44', '0-2', 'no', '1', 'right', 'left_up', 'no'], ['no-recurrence-events', '30-39', 'premeno', '0-4', '0-2', 'no', '2', 'right', 'central', 'no'], ['no-recurrence-events', '50-59', 'ge40', '20-24', '0-2', 'no', '3', 'left', 'left_up', 'no'], ['no-recurrence-events', '50-59', 'ge40', '25-29', '0-2', 'no', '2', 'right', 'left_up', 'no'], ['no-recurrence-events', '60-69', 'ge40', '20-24', '0-2', 'no', '2', 'right', 'left_up', 'no'], ['no-recurrence-events', '50-59', 'premeno', '10-14', '0-2', 'no', '1', 'left', 'left_low', 'no'], ['no-recurrence-events', '40-49', 'premeno', '30-34', '0-2', 'no', '2', 'right', 'right_low', 'no'], ['no-recurrence-events', '60-69', 'ge40', '30-34', '0-2', 'no', '2', 'left', 'left_up', 'no'], ['no-recurrence-events', '60-69', 'ge40', '15-19', '0-2', 'no', '2', 'right', 'left_up', 'no'], ['no-recurrence-events', '40-49', 'premeno', '30-34', '0-2', 'no', '1', 'left', 'right_up', 'no'], ['no-recurrence-events', '30-39', 'premeno', '25-29', '0-2', 'no', '2', 'left', 'left_low', 'no'], ['no-recurrence-events', '40-49', 'ge40', '20-24', '0-2', 'no', '3', 'left', 'left_low', 'no'], ['no-recurrence-events', '50-59', 'ge40', '30-34', '0-2', 'no', '3', 'right', 'left_low', 'no'], ['no-recurrence-events', '50-59', 'premeno', '25-29', '0-2', 'no', '2', 'right', 'right_low', 'no'], ['no-recurrence-events', '40-49', 'premeno', '20-24', '0-2', 'no', '2', 'left', 'right_low', 'no'], ['no-recurrence-events', '40-49', 'premeno', '10-14', '0-2', 'no', '2', 'right', 'left_low', 'no'], ['no-recurrence-events', '40-49', 'premeno', '30-34', '0-2', 'no', '1', 'right', 'left_up', 'no'], ['no-recurrence-events', '40-49', 'premeno', '20-24', '0-2', 'no', '2', 'left', 'left_up', 'no'], ['no-recurrence-events', '30-39', 'premeno', '40-44', '0-2', 'no', '2', 'right', 'right_up', 'no'], ['no-recurrence-events', '40-49', 'premeno', '30-34', '0-2', 'no', '3', 'right', 'right_up', 'no'], ['no-recurrence-events', '60-69', 'ge40', '30-34', '0-2', 'no', '1', 'right', 'left_up', 'no'], ['no-recurrence-events', '50-59', 'ge40', '25-29', '0-2', 'no', '1', 'left', 'left_low', 'no'], ['no-recurrence-events', '50-59', 'ge40', '15-19', '0-2', 'no', '1', 'right', 'central', 'no'], ['no-recurrence-events', '40-49', 'premeno', '20-24', '0-2', 'no', '2', 'right', 'left_up', 'no'], ['no-recurrence-events', '40-49', 'premeno', '10-14', '0-2', 'no', '1', 'right', 'left_up', 'no'], ['no-recurrence-events', '40-49', 'premeno', '35-39', '0-2', 'no', '2', 'right', 'right_up', 'no'], ['no-recurrence-events', '50-59', 'ge40', '20-24', '0-2', 'no', '2', 'right', 'left_up', 'no'], ['no-recurrence-events', '30-39', 'premeno', '15-19', '0-2', 'no', '1', 'left', 'left_low', 'no'], ['no-recurrence-events', '40-49', 'ge40', '20-24', '0-2', 'no', '3', 'left', 'left_up', 'no'], ['no-recurrence-events', '30-39', 'premeno', '10-14', '0-2', 'no', '1', 'right', 'left_low', 'no'], ['no-recurrence-events', '60-69', 'ge40', '15-19', '0-2', 'no', '1', 'left', 'right_low', 'no'], ['no-recurrence-events', '60-69', 'ge40', '20-24', '0-2', 'no', '1', 'left', 'left_low', 'no'], ['no-recurrence-events', '50-59', 'ge40', '15-19', '0-2', 'no', '2', 'right', 'right_up', 'no'], ['no-recurrence-events', '50-59', 'ge40', '40-44', '0-2', 'no', '3', 'left', 'left_up', 'no'], ['no-recurrence-events', '50-59', 'ge40', '30-34', '0-2', 'no', '1', 'right', 'left_low', 'no'], ['no-recurrence-events', '60-69', 'ge40', '10-14', '0-2', 'no', '1', 'right', 'left_low', 'no'], ['no-recurrence-events', '70-79', 'ge40', '10-14', '0-2', 'no', '2', 'left', 'central', 'no'], ['no-recurrence-events', '30-39', 'premeno', '30-34', '6-8', 'yes', '2', 'right', 'right_up', 'no'], ['no-recurrence-events', '30-39', 'premeno', '25-29', '6-8', 'yes', '2', 'right', 'left_up', 'yes'], ['no-recurrence-events', '50-59', 'premeno', '25-29', '0-2', 'yes', '2', 'left', 'left_up', 'no'], ['no-recurrence-events', '40-49', 'premeno', '35-39', '9-11', 'yes', '2', 'right', 'left_up', 'yes'], ['no-recurrence-events', '40-49', 'premeno', '35-39', '9-11', 'yes', '2', 'right', 'right_up', 'yes'], ['no-recurrence-events', '40-49', 'premeno', '40-44', '3-5', 'yes', '3', 'right', 'left_up', 'yes'], ['no-recurrence-events', '40-49', 'premeno', '30-34', '6-8', 'no', '2', 'left', 'left_up', 'no'], ['no-recurrence-events', '50-59', 'ge40', '40-44', '0-2', 'no', '3', 'left', 'right_up', 'no'], ['no-recurrence-events', '60-69', 'ge40', '30-34', '0-2', 'no', '2', 'left', 'left_low', 'yes'], ['no-recurrence-events', '30-39', 'premeno', '20-24', '3-5', 'no', '2', 'right', 'central', 'no'], ['no-recurrence-events', '30-39', 'premeno', '40-44', '3-5', 'no', '3', 'right', 'right_up', 'yes'], ['no-recurrence-events', '40-49', 'premeno', '5-9', '0-2', 'no', '1', 'left', 'left_low', 'yes'], ['no-recurrence-events', '30-39', 'premeno', '40-44', '0-2', 'no', '2', 'left', 'left_low', 'yes'], ['no-recurrence-events', '40-49', 'premeno', '30-34', '0-2', 'no', '2', 'left', 'right_low', 'no'], ['no-recurrence-events', '50-59', 'ge40', '40-44', '3-5', 'yes', '2', 'left', 'left_low', 'no'], ['no-recurrence-events', '50-59', 'premeno', '20-24', '3-5', 'yes', '2', 'left', 'left_low', 'no'], ['no-recurrence-events', '60-69', 'ge40', '10-14', '0-2', 'no', '1', 'left', 'left_up', 'no'], ['no-recurrence-events', '40-49', 'premeno', '45-49', '0-2', 'no', '2', 'left', 'left_low', 'yes'], ['no-recurrence-events', '60-69', 'ge40', '45-49', '6-8', 'yes', '3', 'left', 'central', 'no'], ['no-recurrence-events', '60-69', 'ge40', '50-54', '0-2', 'no', '2', 'right', 'left_up', 'yes'], ['no-recurrence-events', '50-59', 'premeno', '30-34', '3-5', 'yes', '2', 'left', 'left_low', 'yes'], ['no-recurrence-events', '30-39', 'premeno', '20-24', '0-2', 'no', '3', 'left', 'central', 'no'], ['no-recurrence-events', '50-59', 'lt40', '30-34', '0-2', 'no', '3', 'right', 'left_up', 'no'], ['no-recurrence-events', '50-59', 'ge40', '25-29', '15-17', 'yes', '3', 'right', 'left_up', 'no'], ['no-recurrence-events', '60-69', 'ge40', '30-34', '3-5', 'yes', '3', 'left', 'left_low', 'no'], ['no-recurrence-events', '50-59', 'ge40', '35-39', '15-17', 'no', '3', 'left', 'left_low', 'no'], ['no-recurrence-events', '60-69', 'ge40', '15-19', '0-2', 'no', '3', 'right', 'left_up', 'yes'], ['no-recurrence-events', '30-39', 'lt40', '15-19', '0-2', 'no', '3', 'right', 'left_up', 'no'], ['no-recurrence-events', '60-69', 'ge40', '40-44', '3-5', 'no', '2', 'right', 'left_up', 'yes'], ['no-recurrence-events', '50-59', 'ge40', '25-29', '3-5', 'yes', '3', 'right', 'left_up', 'no'], ['no-recurrence-events', '50-59', 'premeno', '30-34', '0-2', 'no', '1', 'left', 'central', 'no'], ['no-recurrence-events', '50-59', 'ge40', '30-34', '0-2', 'no', '1', 'right', 'central', 'no'], ['no-recurrence-events', '40-49', 'premeno', '35-39', '0-2', 'no', '1', 'left', 'left_low', 'no'], ['no-recurrence-events', '40-49', 'premeno', '25-29', '0-2', 'no', '3', 'right', 'left_up', 'yes'], ['no-recurrence-events', '40-49', 'premeno', '30-34', '3-5', 'yes', '2', 'right', 'left_low', 'no'], ['no-recurrence-events', '60-69', 'ge40', '10-14', '0-2', 'no', '2', 'right', 'left_up', 'yes'], ['no-recurrence-events', '40-49', 'premeno', '20-24', '3-5', 'no', '2', 'right', 'left_up', 'no'], ['no-recurrence-events', '40-49', 'premeno', '20-24', '3-5', 'no', '2', 'right', 'left_low', 'no'], ['no-recurrence-events', '40-49', 'ge40', '40-44', '15-17', 'yes', '2', 'right', 'left_up', 'yes'], ['no-recurrence-events', '50-59', 'premeno', '10-14', '0-2', 'no', '2', 'right', 'left_up', 'no'], ['no-recurrence-events', '40-49', 'ge40', '30-34', '0-2', 'no', '2', 'left', 'left_up', 'yes'], ['no-recurrence-events', '30-39', 'premeno', '20-24', '3-5', 'yes', '2', 'right', 'left_up', 'yes'], ['no-recurrence-events', '30-39', 'premeno', '15-19', '0-2', 'no', '1', 'left', 'left_low', 'no'], ['no-recurrence-events', '60-69', 'ge40', '30-34', '6-8', 'yes', '2', 'right', 'right_up', 'no'], ['no-recurrence-events', '50-59', 'ge40', '20-24', '3-5', 'yes', '2', 'right', 'left_up', 'no'], ['no-recurrence-events', '50-59', 'premeno', '25-29', '3-5', 'yes', '2', 'left', 'left_low', 'yes'], ['no-recurrence-events', '40-49', 'premeno', '30-34', '0-2', 'no', '2', 'right', 'right_up', 'yes'], ['no-recurrence-events', '40-49', 'ge40', '25-29', '0-2', 'no', '2', 'left', 'left_low', 'no'], ['no-recurrence-events', '60-69', 'ge40', '10-14', '0-2', 'no', '2', 'left', 'left_low', 'no'], ['no-recurrence-events', '50-59', 'premeno', '25-29', '3-5', 'no', '2', 'right', 'left_up', 'yes'], ['no-recurrence-events', '40-49', 'premeno', '20-24', '0-2', 'no', '3', 'right', 'left_low', 'yes'], ['no-recurrence-events', '40-49', 'premeno', '35-39', '0-2', 'yes', '3', 'right', 'left_up', 'yes'], ['no-recurrence-events', '40-49', 'premeno', '35-39', '0-2', 'yes', '3', 'right', 'left_low', 'yes'], ['no-recurrence-events', '40-49', 'premeno', '25-29', '0-2', 'no', '1', 'right', 'left_low', 'yes'], ['no-recurrence-events', '40-49', 'premeno', '20-24', '6-8', 'no', '2', 'right', 'left_low', 'yes'], ['no-recurrence-events', '50-59', 'ge40', '25-29', '0-2', 'no', '1', 'left', 'right_low', 'no'], ['no-recurrence-events', '60-69', 'ge40', '15-19', '0-2', 'no', '2', 'left', 'left_up', 'yes'], ['no-recurrence-events', '40-49', 'premeno', '10-14', '0-2', 'no', '2', 'right', 'left_up', 'no'], ['no-recurrence-events', '50-59', 'ge40', '20-24', '0-2', 'yes', '2', 'right', 'left_up', 'no'], ['no-recurrence-events', '40-49', 'premeno', '15-19', '12-14', 'no', '3', 'right', 'right_low', 'yes'], ['no-recurrence-events', '40-49', 'premeno', '25-29', '0-2', 'no', '2', 'left', 'left_up', 'yes'], ['no-recurrence-events', '50-59', 'ge40', '30-34', '6-8', 'yes', '2', 'left', 'left_low', 'no'], ['no-recurrence-events', '30-39', 'premeno', '10-14', '0-2', 'no', '2', 'left', 'right_low', 'no'], ['no-recurrence-events', '50-59', 'premeno', '50-54', '0-2', 'yes', '2', 'right', 'left_up', 'yes'], ['no-recurrence-events', '50-59', 'ge40', '35-39', '0-2', 'no', '2', 'left', 'left_up', 'no'], ['no-recurrence-events', '50-59', 'premeno', '10-14', '3-5', 'no', '1', 'right', 'left_up', 'no'], ['no-recurrence-events', '40-49', 'premeno', '10-14', '0-2', 'no', '2', 'left', 'left_low', 'yes'], ['no-recurrence-events', '50-59', 'ge40', '15-19', '0-2', 'yes', '2', 'left', 'central', 'yes'], ['no-recurrence-events', '50-59', 'premeno', '25-29', '0-2', 'no', '1', 'left', 'left_low', 'no'], ['no-recurrence-events', '60-69', 'ge40', '25-29', '0-2', 'no', '3', 'right', 'left_low', 'no'], ['recurrence-events', '50-59', 'premeno', '15-19', '0-2', 'no', '2', 'left', 'left_low', 'no'], ['recurrence-events', '40-49', 'premeno', '40-44', '0-2', 'no', '1', 'left', 'left_low', 'no'], ['recurrence-events', '50-59', 'ge40', '35-39', '0-2', 'no', '2', 'left', 'left_low', 'no'], ['recurrence-events', '50-59', 'premeno', '25-29', '0-2', 'no', '2', 'left', 'right_up', 'no'], ['recurrence-events', '30-39', 'premeno', '0-4', '0-2', 'no', '2', 'right', 'central', 'no'], ['recurrence-events', '50-59', 'premeno', '25-29', '0-2', 'no', '2', 'left', 'right_up', 'no'], ['recurrence-events', '50-59', 'premeno', '30-34', '0-2', 'no', '3', 'left', 'right_up', 'no'], ['recurrence-events', '40-49', 'premeno', '35-39', '0-2', 'no', '1', 'right', 'left_up', 'no'], ['recurrence-events', '40-49', 'premeno', '20-24', '0-2', 'no', '2', 'left', 'left_low', 'no'], ['recurrence-events', '50-59', 'ge40', '20-24', '0-2', 'no', '2', 'right', 'central', 'no'], ['recurrence-events', '40-49', 'premeno', '30-34', '0-2', 'no', '3', 'right', 'right_up', 'no'], ['recurrence-events', '50-59', 'premeno', '25-29', '0-2', 'no', '1', 'right', 'left_up', 'no'], ['recurrence-events', '60-69', 'ge40', '40-44', '0-2', 'no', '2', 'right', 'left_low', 'no'], ['recurrence-events', '40-49', 'ge40', '20-24', '0-2', 'no', '2', 'right', 'left_up', 'no'], ['recurrence-events', '50-59', 'ge40', '20-24', '0-2', 'no', '2', 'left', 'left_up', 'no'], ['recurrence-events', '40-49', 'premeno', '15-19', '0-2', 'no', '2', 'left', 'left_up', 'no'], ['recurrence-events', '60-69', 'ge40', '30-34', '0-2', 'no', '3', 'right', 'central', 'no'], ['recurrence-events', '30-39', 'premeno', '15-19', '0-2', 'no', '1', 'right', 'left_low', 'no'], ['recurrence-events', '40-49', 'premeno', '25-29', '0-2', 'no', '3', 'left', 'right_up', 'no'], ['recurrence-events', '30-39', 'premeno', '30-34', '0-2', 'no', '1', 'right', 'left_up', 'no'], ['recurrence-events', '60-69', 'ge40', '25-29', '0-2', 'no', '3', 'left', 'right_low', 'yes'], ['recurrence-events', '60-69', 'ge40', '20-24', '0-2', 'no', '3', 'right', 'left_low', 'no'], ['recurrence-events', '30-39', 'premeno', '25-29', '3-5', 'yes', '3', 'left', 'left_low', 'yes'], ['recurrence-events', '40-49', 'ge40', '20-24', '3-5', 'no', '3', 'right', 'left_low', 'yes'], ['recurrence-events', '40-49', 'premeno', '30-34', '15-17', 'yes', '3', 'left', 'left_low', 'no'], ['recurrence-events', '50-59', 'premeno', '30-34', '0-2', 'no', '3', 'right', 'left_up', 'yes'], ['recurrence-events', '60-69', 'ge40', '40-44', '3-5', 'yes', '3', 'right', 'left_low', 'no'], ['recurrence-events', '60-69', 'ge40', '45-49', '0-2', 'no', '1', 'right', 'right_up', 'yes'], ['recurrence-events', '50-59', 'premeno', '50-54', '9-11', 'yes', '2', 'right', 'left_up', 'no'], ['recurrence-events', '40-49', 'premeno', '30-34', '3-5', 'no', '2', 'right', 'left_up', 'no'], ['recurrence-events', '30-39', 'premeno', '30-34', '3-5', 'no', '3', 'right', 'left_up', 'yes'], ['recurrence-events', '60-69', 'ge40', '30-34', '0-2', 'no', '3', 'right', 'left_up', 'yes'], ['recurrence-events', '50-59', 'premeno', '25-29', '3-5', 'yes', '3', 'left', 'left_low', 'yes'], ['recurrence-events', '40-49', 'premeno', '25-29', '0-2', 'no', '2', 'right', 'left_low', 'no'], ['recurrence-events', '40-49', 'premeno', '25-29', '0-2', 'no', '2', 'right', 'left_low', 'no'], ['recurrence-events', '30-39', 'premeno', '35-39', '0-2', 'no', '3', 'left', 'left_low', 'no'], ['recurrence-events', '40-49', 'premeno', '20-24', '3-5', 'yes', '2', 'right', 'right_up', 'yes'], ['recurrence-events', '60-69', 'ge40', '20-24', '3-5', 'no', '2', 'left', 'left_low', 'yes'], ['recurrence-events', '40-49', 'premeno', '15-19', '15-17', 'yes', '3', 'left', 'left_low', 'no'], ['recurrence-events', '50-59', 'ge40', '25-29', '6-8', 'no', '3', 'left', 'left_low', 'yes'], ['recurrence-events', '50-59', 'ge40', '20-24', '3-5', 'yes', '3', 'right', 'right_up', 'no'], ['recurrence-events', '40-49', 'premeno', '30-34', '12-14', 'yes', '3', 'left', 'left_up', 'yes'], ['recurrence-events', '30-39', 'premeno', '30-34', '9-11', 'no', '2', 'right', 'left_up', 'yes'], ['recurrence-events', '30-39', 'premeno', '15-19', '6-8', 'yes', '3', 'left', 'left_low', 'yes'], ['recurrence-events', '50-59', 'ge40', '30-34', '9-11', 'yes', '3', 'left', 'right_low', 'yes'], ['recurrence-events', '60-69', 'ge40', '35-39', '6-8', 'yes', '3', 'left', 'left_low', 'no'], ['recurrence-events', '30-39', 'premeno', '20-24', '3-5', 'yes', '2', 'left', 'left_low', 'no'], ['recurrence-events', '40-49', 'premeno', '25-29', '0-2', 'no', '3', 'left', 'left_up', 'no'], ['recurrence-events', '40-49', 'premeno', '50-54', '0-2', 'no', '2', 'right', 'left_low', 'yes'], ['recurrence-events', '30-39', 'premeno', '40-44', '0-2', 'no', '1', 'left', 'left_up', 'no'], ['recurrence-events', '60-69', 'ge40', '50-54', '0-2', 'no', '3', 'right', 'left_up', 'no'], ['recurrence-events', '40-49', 'premeno', '30-34', '0-2', 'yes', '3', 'right', 'right_up', 'no'], ['recurrence-events', '40-49', 'premeno', '30-34', '6-8', 'yes', '3', 'right', 'left_up', 'no'], ['recurrence-events', '40-49', 'premeno', '30-34', '0-2', 'no', '1', 'left', 'left_low', 'yes'], ['recurrence-events', '40-49', 'premeno', '20-24', '3-5', 'yes', '2', 'left', 'left_low', 'yes'], ['recurrence-events', '50-59', 'ge40', '30-34', '6-8', 'yes', '2', 'left', 'right_low', 'yes'], ['recurrence-events', '50-59', 'ge40', '30-34', '3-5', 'no', '3', 'right', 'left_up', 'no'], ['recurrence-events', '60-69', 'ge40', '25-29', '3-5', 'no', '2', 'right', 'right_up', 'no'], ['recurrence-events', '40-49', 'ge40', '25-29', '12-14', 'yes', '3', 'left', 'right_low', 'yes'], ['recurrence-events', '60-69', 'ge40', '25-29', '0-2', 'no', '3', 'left', 'left_up', 'no'], ['recurrence-events', '30-39', 'premeno', '35-39', '9-11', 'yes', '3', 'left', 'left_low', 'no'], ['recurrence-events', '40-49', 'premeno', '30-34', '3-5', 'yes', '2', 'left', 'right_up', 'no'], ['recurrence-events', '60-69', 'ge40', '20-24', '24-26', 'yes', '3', 'left', 'left_low', 'yes'], ['recurrence-events', '30-39', 'premeno', '35-39', '0-2', 'no', '3', 'left', 'left_low', 'no'], ['recurrence-events', '40-49', 'premeno', '25-29', '0-2', 'no', '2', 'left', 'left_low', 'yes'], ['recurrence-events', '50-59', 'ge40', '30-34', '6-8', 'yes', '3', 'left', 'right_low', 'no'], ['recurrence-events', '50-59', 'premeno', '25-29', '0-2', 'no', '3', 'right', 'left_low', 'yes'], ['recurrence-events', '40-49', 'premeno', '15-19', '0-2', 'yes', '3', 'right', 'left_up', 'no'], ['recurrence-events', '60-69', 'ge40', '30-34', '0-2', 'yes', '2', 'right', 'right_up', 'yes'], ['recurrence-events', '60-69', 'ge40', '30-34', '3-5', 'yes', '2', 'left', 'central', 'yes'], ['recurrence-events', '40-49', 'premeno', '25-29', '9-11', 'yes', '3', 'right', 'left_up', 'no'], ['recurrence-events', '30-39', 'premeno', '25-29', '6-8', 'yes', '3', 'left', 'right_low', 'yes'], ['recurrence-events', '60-69', 'ge40', '10-14', '6-8', 'yes', '3', 'left', 'left_up', 'yes'], ['recurrence-events', '50-59', 'premeno', '35-39', '15-17', 'yes', '3', 'right', 'right_up', 'no'], ['recurrence-events', '50-59', 'ge40', '40-44', '6-8', 'yes', '3', 'left', 'left_low', 'yes'], ['recurrence-events', '50-59', 'ge40', '40-44', '6-8', 'yes', '3', 'left', 'left_low', 'yes'], ['recurrence-events', '30-39', 'premeno', '30-34', '0-2', 'no', '2', 'left', 'left_up', 'no'], ['recurrence-events', '30-39', 'premeno', '20-24', '0-2', 'no', '3', 'left', 'left_up', 'yes'], ['recurrence-events', '60-69', 'ge40', '20-24', '0-2', 'no', '1', 'right', 'left_up', 'no'], ['recurrence-events', '40-49', 'ge40', '30-34', '3-5', 'no', '3', 'left', 'left_low', 'no'], ['recurrence-events', '50-59', 'ge40', '30-34', '3-5', 'no', '3', 'left', 'left_low', 'no']]\n"
          ],
          "name": "stdout"
        }
      ]
    },
    {
      "cell_type": "code",
      "metadata": {
        "id": "Dl-rFc0hbQZG",
        "colab_type": "code",
        "colab": {
          "base_uri": "https://localhost:8080/",
          "height": 802
        },
        "outputId": "0c821b01-372e-41fa-c2bd-5d1827ae2712"
      },
      "source": [
        "def str_column_to_int(dataset, column):\n",
        "\tclass_values = [row[column] for row in dataset]\n",
        "\tunique = set(class_values)\n",
        "\tlookup = dict()\n",
        "\tfor i, value in enumerate(unique):\n",
        "\t\tlookup[value] = i\n",
        "\t\tprint('[%s] => %d' % (value, i))\n",
        "\tfor row in dataset:\n",
        "\t\trow[column] = lookup[row[column]]\n",
        "\treturn lookup\n",
        "\n",
        "lookups = []\n",
        "for i in range(len(dataset[1])):\n",
        "  lookup = str_column_to_int(dataset, i)\n",
        "  lookups.append(lookup)\n",
        "\n",
        "# for i in range(len(dataset)):\n",
        "#   dataset[i] = list(map(float, dataset[i]))\n",
        "#   dataset[i][-1] = int(dataset[i][-1])\n",
        "\n",
        "print(len(dataset))\n",
        "print(dataset)"
      ],
      "execution_count": null,
      "outputs": [
        {
          "output_type": "stream",
          "text": [
            "[no-recurrence-events] => 0\n",
            "[recurrence-events] => 1\n",
            "[40-49] => 0\n",
            "[60-69] => 1\n",
            "[50-59] => 2\n",
            "[70-79] => 3\n",
            "[20-29] => 4\n",
            "[30-39] => 5\n",
            "[ge40] => 0\n",
            "[premeno] => 1\n",
            "[lt40] => 2\n",
            "[20-24] => 0\n",
            "[15-19] => 1\n",
            "[45-49] => 2\n",
            "[25-29] => 3\n",
            "[5-9] => 4\n",
            "[35-39] => 5\n",
            "[30-34] => 6\n",
            "[50-54] => 7\n",
            "[10-14] => 8\n",
            "[40-44] => 9\n",
            "[0-4] => 10\n",
            "[6-8] => 0\n",
            "[24-26] => 1\n",
            "[15-17] => 2\n",
            "[12-14] => 3\n",
            "[3-5] => 4\n",
            "[9-11] => 5\n",
            "[0-2] => 6\n",
            "[yes] => 0\n",
            "[no] => 1\n",
            "[1] => 0\n",
            "[3] => 1\n",
            "[2] => 2\n",
            "[right] => 0\n",
            "[left] => 1\n",
            "[right_up] => 0\n",
            "[right_low] => 1\n",
            "[central] => 2\n",
            "[left_up] => 3\n",
            "[left_low] => 4\n",
            "[yes] => 0\n",
            "[no] => 1\n",
            "277\n",
            "[[0, 5, 1, 6, 6, 1, 1, 1, 4, 1], [0, 0, 1, 0, 6, 1, 2, 0, 0, 1], [0, 0, 1, 0, 6, 1, 2, 1, 4, 1], [0, 1, 0, 1, 6, 1, 2, 0, 3, 1], [0, 0, 1, 10, 6, 1, 2, 0, 1, 1], [0, 1, 0, 1, 6, 1, 2, 1, 4, 1], [0, 2, 1, 3, 6, 1, 2, 1, 4, 1], [0, 1, 0, 0, 6, 1, 0, 1, 4, 1], [0, 0, 1, 7, 6, 1, 2, 1, 4, 1], [0, 0, 1, 0, 6, 1, 2, 0, 3, 1], [0, 0, 1, 10, 6, 1, 1, 1, 2, 1], [0, 2, 0, 3, 6, 1, 2, 1, 4, 1], [0, 1, 2, 8, 6, 1, 0, 1, 0, 1], [0, 2, 0, 3, 6, 1, 1, 1, 0, 1], [0, 0, 1, 6, 6, 1, 1, 1, 3, 1], [0, 1, 2, 6, 6, 1, 0, 1, 4, 1], [0, 0, 1, 1, 6, 1, 2, 1, 4, 1], [0, 2, 1, 6, 6, 1, 1, 1, 4, 1], [0, 1, 0, 6, 6, 1, 1, 1, 4, 1], [0, 2, 0, 6, 6, 1, 0, 0, 0, 1], [0, 2, 0, 9, 6, 1, 2, 1, 4, 1], [0, 1, 0, 1, 6, 1, 2, 1, 4, 1], [0, 5, 1, 3, 6, 1, 2, 0, 4, 1], [0, 2, 1, 9, 6, 1, 2, 1, 3, 1], [0, 2, 1, 5, 6, 1, 2, 0, 3, 1], [0, 0, 1, 3, 6, 1, 2, 1, 3, 1], [0, 2, 1, 0, 6, 1, 0, 1, 4, 1], [0, 1, 0, 3, 6, 1, 1, 0, 3, 1], [0, 0, 1, 9, 6, 1, 2, 0, 4, 1], [0, 1, 0, 6, 6, 1, 2, 1, 4, 1], [0, 2, 0, 9, 6, 1, 1, 0, 3, 1], [0, 2, 1, 1, 6, 1, 2, 0, 4, 1], [0, 2, 1, 8, 6, 1, 1, 1, 4, 1], [0, 2, 0, 8, 6, 1, 0, 0, 3, 1], [0, 2, 0, 8, 6, 1, 0, 1, 3, 1], [0, 5, 1, 6, 6, 1, 2, 1, 3, 1], [0, 2, 0, 10, 6, 1, 2, 1, 2, 1], [0, 2, 0, 1, 6, 1, 0, 0, 2, 1], [0, 0, 1, 8, 6, 1, 2, 1, 4, 1], [0, 0, 1, 6, 6, 1, 0, 1, 4, 1], [0, 2, 0, 0, 6, 1, 0, 0, 4, 1], [0, 1, 0, 3, 6, 1, 2, 1, 4, 1], [0, 1, 0, 4, 6, 1, 0, 1, 2, 1], [0, 0, 1, 8, 6, 1, 2, 1, 3, 1], [0, 2, 0, 7, 6, 1, 0, 0, 0, 1], [0, 2, 0, 6, 6, 1, 0, 1, 3, 1], [0, 0, 1, 3, 6, 1, 2, 0, 4, 1], [0, 2, 1, 3, 6, 1, 0, 0, 3, 1], [0, 0, 1, 0, 6, 1, 0, 0, 0, 1], [0, 0, 1, 0, 6, 1, 0, 0, 4, 1], [0, 2, 2, 1, 6, 1, 2, 1, 4, 1], [0, 5, 1, 0, 6, 1, 2, 1, 1, 1], [0, 2, 1, 1, 6, 1, 0, 1, 4, 1], [0, 3, 0, 0, 6, 1, 1, 1, 3, 1], [0, 3, 0, 9, 6, 1, 0, 0, 3, 1], [0, 3, 0, 9, 6, 1, 0, 0, 0, 1], [0, 2, 0, 10, 6, 1, 0, 0, 2, 1], [0, 2, 0, 4, 6, 1, 2, 0, 0, 1], [0, 1, 0, 6, 6, 1, 0, 1, 3, 1], [0, 1, 0, 1, 6, 1, 0, 0, 3, 1], [0, 0, 1, 0, 6, 1, 2, 1, 2, 1], [0, 0, 1, 8, 6, 1, 0, 0, 1, 1], [0, 2, 0, 10, 6, 1, 0, 1, 4, 1], [0, 4, 1, 5, 6, 1, 2, 0, 0, 1], [0, 0, 1, 3, 6, 1, 0, 1, 1, 1], [0, 0, 1, 8, 6, 1, 0, 0, 3, 1], [0, 0, 1, 3, 6, 1, 0, 0, 1, 1], [0, 2, 0, 0, 6, 1, 1, 1, 3, 1], [0, 2, 0, 5, 6, 1, 1, 1, 4, 1], [0, 1, 0, 7, 6, 1, 2, 1, 4, 1], [0, 1, 0, 8, 6, 1, 0, 1, 4, 1], [0, 0, 1, 3, 6, 1, 2, 0, 3, 1], [0, 1, 0, 0, 6, 1, 2, 1, 3, 1], [0, 2, 1, 1, 6, 1, 2, 0, 1, 1], [0, 5, 1, 4, 6, 1, 2, 1, 1, 1], [0, 2, 0, 8, 6, 1, 0, 1, 4, 1], [0, 2, 0, 8, 6, 1, 2, 1, 4, 1], [0, 5, 1, 3, 6, 1, 0, 1, 2, 1], [0, 2, 1, 3, 6, 1, 2, 1, 4, 1], [0, 0, 1, 3, 6, 1, 2, 0, 2, 1], [0, 2, 0, 8, 6, 1, 2, 0, 4, 1], [0, 1, 0, 8, 6, 1, 0, 1, 3, 1], [0, 1, 0, 1, 6, 1, 2, 0, 4, 1], [0, 2, 0, 1, 6, 1, 2, 0, 4, 1], [0, 0, 1, 0, 6, 1, 0, 1, 1, 1], [0, 2, 0, 5, 6, 1, 1, 1, 3, 1], [0, 1, 0, 3, 6, 1, 2, 0, 4, 1], [0, 3, 0, 10, 6, 1, 0, 1, 1, 1], [0, 2, 0, 0, 6, 1, 1, 0, 3, 1], [0, 0, 1, 9, 6, 1, 0, 0, 3, 1], [0, 5, 1, 10, 6, 1, 2, 0, 2, 1], [0, 2, 0, 0, 6, 1, 1, 1, 3, 1], [0, 2, 0, 3, 6, 1, 2, 0, 3, 1], [0, 1, 0, 0, 6, 1, 2, 0, 3, 1], [0, 2, 1, 8, 6, 1, 0, 1, 4, 1], [0, 0, 1, 6, 6, 1, 2, 0, 1, 1], [0, 1, 0, 6, 6, 1, 2, 1, 3, 1], [0, 1, 0, 1, 6, 1, 2, 0, 3, 1], [0, 0, 1, 6, 6, 1, 0, 1, 0, 1], [0, 5, 1, 3, 6, 1, 2, 1, 4, 1], [0, 0, 0, 0, 6, 1, 1, 1, 4, 1], [0, 2, 0, 6, 6, 1, 1, 0, 4, 1], [0, 2, 1, 3, 6, 1, 2, 0, 1, 1], [0, 0, 1, 0, 6, 1, 2, 1, 1, 1], [0, 0, 1, 8, 6, 1, 2, 0, 4, 1], [0, 0, 1, 6, 6, 1, 0, 0, 3, 1], [0, 0, 1, 0, 6, 1, 2, 1, 3, 1], [0, 5, 1, 9, 6, 1, 2, 0, 0, 1], [0, 0, 1, 6, 6, 1, 1, 0, 0, 1], [0, 1, 0, 6, 6, 1, 0, 0, 3, 1], [0, 2, 0, 3, 6, 1, 0, 1, 4, 1], [0, 2, 0, 1, 6, 1, 0, 0, 2, 1], [0, 0, 1, 0, 6, 1, 2, 0, 3, 1], [0, 0, 1, 8, 6, 1, 0, 0, 3, 1], [0, 0, 1, 5, 6, 1, 2, 0, 0, 1], [0, 2, 0, 0, 6, 1, 2, 0, 3, 1], [0, 5, 1, 1, 6, 1, 0, 1, 4, 1], [0, 0, 0, 0, 6, 1, 1, 1, 3, 1], [0, 5, 1, 8, 6, 1, 0, 0, 4, 1], [0, 1, 0, 1, 6, 1, 0, 1, 1, 1], [0, 1, 0, 0, 6, 1, 0, 1, 4, 1], [0, 2, 0, 1, 6, 1, 2, 0, 0, 1], [0, 2, 0, 9, 6, 1, 1, 1, 3, 1], [0, 2, 0, 6, 6, 1, 0, 0, 4, 1], [0, 1, 0, 8, 6, 1, 0, 0, 4, 1], [0, 3, 0, 8, 6, 1, 2, 1, 2, 1], [0, 5, 1, 6, 0, 0, 2, 0, 0, 1], [0, 5, 1, 3, 0, 0, 2, 0, 3, 0], [0, 2, 1, 3, 6, 0, 2, 1, 3, 1], [0, 0, 1, 5, 5, 0, 2, 0, 3, 0], [0, 0, 1, 5, 5, 0, 2, 0, 0, 0], [0, 0, 1, 9, 4, 0, 1, 0, 3, 0], [0, 0, 1, 6, 0, 1, 2, 1, 3, 1], [0, 2, 0, 9, 6, 1, 1, 1, 0, 1], [0, 1, 0, 6, 6, 1, 2, 1, 4, 0], [0, 5, 1, 0, 4, 1, 2, 0, 2, 1], [0, 5, 1, 9, 4, 1, 1, 0, 0, 0], [0, 0, 1, 4, 6, 1, 0, 1, 4, 0], [0, 5, 1, 9, 6, 1, 2, 1, 4, 0], [0, 0, 1, 6, 6, 1, 2, 1, 1, 1], [0, 2, 0, 9, 4, 0, 2, 1, 4, 1], [0, 2, 1, 0, 4, 0, 2, 1, 4, 1], [0, 1, 0, 8, 6, 1, 0, 1, 3, 1], [0, 0, 1, 2, 6, 1, 2, 1, 4, 0], [0, 1, 0, 2, 0, 0, 1, 1, 2, 1], [0, 1, 0, 7, 6, 1, 2, 0, 3, 0], [0, 2, 1, 6, 4, 0, 2, 1, 4, 0], [0, 5, 1, 0, 6, 1, 1, 1, 2, 1], [0, 2, 2, 6, 6, 1, 1, 0, 3, 1], [0, 2, 0, 3, 2, 0, 1, 0, 3, 1], [0, 1, 0, 6, 4, 0, 1, 1, 4, 1], [0, 2, 0, 5, 2, 1, 1, 1, 4, 1], [0, 1, 0, 1, 6, 1, 1, 0, 3, 0], [0, 5, 2, 1, 6, 1, 1, 0, 3, 1], [0, 1, 0, 9, 4, 1, 2, 0, 3, 0], [0, 2, 0, 3, 4, 0, 1, 0, 3, 1], [0, 2, 1, 6, 6, 1, 0, 1, 2, 1], [0, 2, 0, 6, 6, 1, 0, 0, 2, 1], [0, 0, 1, 5, 6, 1, 0, 1, 4, 1], [0, 0, 1, 3, 6, 1, 1, 0, 3, 0], [0, 0, 1, 6, 4, 0, 2, 0, 4, 1], [0, 1, 0, 8, 6, 1, 2, 0, 3, 0], [0, 0, 1, 0, 4, 1, 2, 0, 3, 1], [0, 0, 1, 0, 4, 1, 2, 0, 4, 1], [0, 0, 0, 9, 2, 0, 2, 0, 3, 0], [0, 2, 1, 8, 6, 1, 2, 0, 3, 1], [0, 0, 0, 6, 6, 1, 2, 1, 3, 0], [0, 5, 1, 0, 4, 0, 2, 0, 3, 0], [0, 5, 1, 1, 6, 1, 0, 1, 4, 1], [0, 1, 0, 6, 0, 0, 2, 0, 0, 1], [0, 2, 0, 0, 4, 0, 2, 0, 3, 1], [0, 2, 1, 3, 4, 0, 2, 1, 4, 0], [0, 0, 1, 6, 6, 1, 2, 0, 0, 0], [0, 0, 0, 3, 6, 1, 2, 1, 4, 1], [0, 1, 0, 8, 6, 1, 2, 1, 4, 1], [0, 2, 1, 3, 4, 1, 2, 0, 3, 0], [0, 0, 1, 0, 6, 1, 1, 0, 4, 0], [0, 0, 1, 5, 6, 0, 1, 0, 3, 0], [0, 0, 1, 5, 6, 0, 1, 0, 4, 0], [0, 0, 1, 3, 6, 1, 0, 0, 4, 0], [0, 0, 1, 0, 0, 1, 2, 0, 4, 0], [0, 2, 0, 3, 6, 1, 0, 1, 1, 1], [0, 1, 0, 1, 6, 1, 2, 1, 3, 0], [0, 0, 1, 8, 6, 1, 2, 0, 3, 1], [0, 2, 0, 0, 6, 0, 2, 0, 3, 1], [0, 0, 1, 1, 3, 1, 1, 0, 1, 0], [0, 0, 1, 3, 6, 1, 2, 1, 3, 0], [0, 2, 0, 6, 0, 0, 2, 1, 4, 1], [0, 5, 1, 8, 6, 1, 2, 1, 1, 1], [0, 2, 1, 7, 6, 0, 2, 0, 3, 0], [0, 2, 0, 5, 6, 1, 2, 1, 3, 1], [0, 2, 1, 8, 4, 1, 0, 0, 3, 1], [0, 0, 1, 8, 6, 1, 2, 1, 4, 0], [0, 2, 0, 1, 6, 0, 2, 1, 2, 0], [0, 2, 1, 3, 6, 1, 0, 1, 4, 1], [0, 1, 0, 3, 6, 1, 1, 0, 4, 1], [1, 2, 1, 1, 6, 1, 2, 1, 4, 1], [1, 0, 1, 9, 6, 1, 0, 1, 4, 1], [1, 2, 0, 5, 6, 1, 2, 1, 4, 1], [1, 2, 1, 3, 6, 1, 2, 1, 0, 1], [1, 5, 1, 10, 6, 1, 2, 0, 2, 1], [1, 2, 1, 3, 6, 1, 2, 1, 0, 1], [1, 2, 1, 6, 6, 1, 1, 1, 0, 1], [1, 0, 1, 5, 6, 1, 0, 0, 3, 1], [1, 0, 1, 0, 6, 1, 2, 1, 4, 1], [1, 2, 0, 0, 6, 1, 2, 0, 2, 1], [1, 0, 1, 6, 6, 1, 1, 0, 0, 1], [1, 2, 1, 3, 6, 1, 0, 0, 3, 1], [1, 1, 0, 9, 6, 1, 2, 0, 4, 1], [1, 0, 0, 0, 6, 1, 2, 0, 3, 1], [1, 2, 0, 0, 6, 1, 2, 1, 3, 1], [1, 0, 1, 1, 6, 1, 2, 1, 3, 1], [1, 1, 0, 6, 6, 1, 1, 0, 2, 1], [1, 5, 1, 1, 6, 1, 0, 0, 4, 1], [1, 0, 1, 3, 6, 1, 1, 1, 0, 1], [1, 5, 1, 6, 6, 1, 0, 0, 3, 1], [1, 1, 0, 3, 6, 1, 1, 1, 1, 0], [1, 1, 0, 0, 6, 1, 1, 0, 4, 1], [1, 5, 1, 3, 4, 0, 1, 1, 4, 0], [1, 0, 0, 0, 4, 1, 1, 0, 4, 0], [1, 0, 1, 6, 2, 0, 1, 1, 4, 1], [1, 2, 1, 6, 6, 1, 1, 0, 3, 0], [1, 1, 0, 9, 4, 0, 1, 0, 4, 1], [1, 1, 0, 2, 6, 1, 0, 0, 0, 0], [1, 2, 1, 7, 5, 0, 2, 0, 3, 1], [1, 0, 1, 6, 4, 1, 2, 0, 3, 1], [1, 5, 1, 6, 4, 1, 1, 0, 3, 0], [1, 1, 0, 6, 6, 1, 1, 0, 3, 0], [1, 2, 1, 3, 4, 0, 1, 1, 4, 0], [1, 0, 1, 3, 6, 1, 2, 0, 4, 1], [1, 0, 1, 3, 6, 1, 2, 0, 4, 1], [1, 5, 1, 5, 6, 1, 1, 1, 4, 1], [1, 0, 1, 0, 4, 0, 2, 0, 0, 0], [1, 1, 0, 0, 4, 1, 2, 1, 4, 0], [1, 0, 1, 1, 2, 0, 1, 1, 4, 1], [1, 2, 0, 3, 0, 1, 1, 1, 4, 0], [1, 2, 0, 0, 4, 0, 1, 0, 0, 1], [1, 0, 1, 6, 3, 0, 1, 1, 3, 0], [1, 5, 1, 6, 5, 1, 2, 0, 3, 0], [1, 5, 1, 1, 0, 0, 1, 1, 4, 0], [1, 2, 0, 6, 5, 0, 1, 1, 1, 0], [1, 1, 0, 5, 0, 0, 1, 1, 4, 1], [1, 5, 1, 0, 4, 0, 2, 1, 4, 1], [1, 0, 1, 3, 6, 1, 1, 1, 3, 1], [1, 0, 1, 7, 6, 1, 2, 0, 4, 0], [1, 5, 1, 9, 6, 1, 0, 1, 3, 1], [1, 1, 0, 7, 6, 1, 1, 0, 3, 1], [1, 0, 1, 6, 6, 0, 1, 0, 0, 1], [1, 0, 1, 6, 0, 0, 1, 0, 3, 1], [1, 0, 1, 6, 6, 1, 0, 1, 4, 0], [1, 0, 1, 0, 4, 0, 2, 1, 4, 0], [1, 2, 0, 6, 0, 0, 2, 1, 1, 0], [1, 2, 0, 6, 4, 1, 1, 0, 3, 1], [1, 1, 0, 3, 4, 1, 2, 0, 0, 1], [1, 0, 0, 3, 3, 0, 1, 1, 1, 0], [1, 1, 0, 3, 6, 1, 1, 1, 3, 1], [1, 5, 1, 5, 5, 0, 1, 1, 4, 1], [1, 0, 1, 6, 4, 0, 2, 1, 0, 1], [1, 1, 0, 0, 1, 0, 1, 1, 4, 0], [1, 5, 1, 5, 6, 1, 1, 1, 4, 1], [1, 0, 1, 3, 6, 1, 2, 1, 4, 0], [1, 2, 0, 6, 0, 0, 1, 1, 1, 1], [1, 2, 1, 3, 6, 1, 1, 0, 4, 0], [1, 0, 1, 1, 6, 0, 1, 0, 3, 1], [1, 1, 0, 6, 6, 0, 2, 0, 0, 0], [1, 1, 0, 6, 4, 0, 2, 1, 2, 0], [1, 0, 1, 3, 5, 0, 1, 0, 3, 1], [1, 5, 1, 3, 0, 0, 1, 1, 1, 0], [1, 1, 0, 8, 0, 0, 1, 1, 3, 0], [1, 2, 1, 5, 2, 0, 1, 0, 0, 1], [1, 2, 0, 9, 0, 0, 1, 1, 4, 0], [1, 2, 0, 9, 0, 0, 1, 1, 4, 0], [1, 5, 1, 6, 6, 1, 2, 1, 3, 1], [1, 5, 1, 0, 6, 1, 1, 1, 3, 0], [1, 1, 0, 0, 6, 1, 0, 0, 3, 1], [1, 0, 0, 6, 4, 1, 1, 1, 4, 1], [1, 2, 0, 6, 4, 1, 1, 1, 4, 1]]\n"
          ],
          "name": "stdout"
        }
      ]
    },
    {
      "cell_type": "code",
      "metadata": {
        "id": "mPmHwYn_hbdA",
        "colab_type": "code",
        "colab": {
          "base_uri": "https://localhost:8080/",
          "height": 88
        },
        "outputId": "d201a8a3-3667-43c1-9718-228206658025"
      },
      "source": [
        "#shuffling the dataset\n",
        "random.shuffle(dataset)\n",
        "print(\"After shuffling.....\")\n",
        "print(len(dataset))\n",
        "print(dataset)"
      ],
      "execution_count": null,
      "outputs": [
        {
          "output_type": "stream",
          "text": [
            "After shuffling.....\n",
            "277\n",
            "[[0, 5, 1, 3, 6, 1, 0, 1, 2, 1], [0, 0, 1, 0, 6, 1, 2, 1, 3, 1], [1, 2, 1, 6, 6, 1, 1, 0, 3, 0], [1, 2, 0, 6, 4, 1, 1, 1, 4, 1], [1, 1, 0, 3, 4, 1, 2, 0, 0, 1], [0, 0, 1, 1, 3, 1, 1, 0, 1, 0], [0, 0, 1, 6, 6, 1, 0, 1, 0, 1], [0, 0, 0, 0, 6, 1, 1, 1, 3, 1], [0, 5, 1, 1, 6, 1, 0, 1, 4, 1], [0, 2, 0, 8, 6, 1, 0, 1, 3, 1], [0, 3, 0, 0, 6, 1, 1, 1, 3, 1], [0, 2, 0, 10, 6, 1, 2, 1, 2, 1], [0, 1, 0, 1, 6, 1, 2, 0, 3, 1], [1, 2, 0, 3, 0, 1, 1, 1, 4, 0], [0, 2, 1, 3, 6, 1, 0, 1, 4, 1], [1, 1, 0, 3, 6, 1, 1, 1, 1, 0], [1, 0, 1, 7, 6, 1, 2, 0, 4, 0], [0, 2, 1, 8, 6, 1, 1, 1, 4, 1], [1, 2, 1, 3, 6, 1, 0, 0, 3, 1], [0, 0, 1, 1, 6, 1, 2, 1, 4, 1], [1, 2, 1, 7, 5, 0, 2, 0, 3, 1], [0, 0, 1, 7, 6, 1, 2, 1, 4, 1], [0, 0, 1, 6, 4, 0, 2, 0, 4, 1], [0, 0, 0, 9, 2, 0, 2, 0, 3, 0], [1, 2, 1, 3, 6, 1, 2, 1, 0, 1], [0, 2, 0, 8, 6, 1, 0, 0, 3, 1], [0, 2, 0, 0, 6, 1, 1, 0, 3, 1], [0, 1, 0, 0, 6, 1, 0, 1, 4, 1], [0, 4, 1, 5, 6, 1, 2, 0, 0, 1], [1, 1, 0, 6, 6, 0, 2, 0, 0, 0], [0, 2, 0, 3, 6, 1, 2, 1, 4, 1], [0, 2, 0, 6, 6, 1, 0, 0, 2, 1], [0, 2, 1, 1, 6, 1, 2, 0, 4, 1], [0, 5, 1, 8, 6, 1, 2, 1, 1, 1], [0, 0, 1, 5, 6, 1, 2, 0, 0, 1], [0, 2, 0, 6, 6, 1, 0, 0, 4, 1], [1, 0, 1, 9, 6, 1, 0, 1, 4, 1], [0, 0, 1, 8, 6, 1, 2, 1, 4, 1], [1, 2, 1, 3, 6, 1, 1, 0, 4, 0], [0, 5, 1, 0, 6, 1, 2, 1, 1, 1], [0, 1, 0, 1, 6, 1, 2, 0, 4, 1], [0, 2, 0, 6, 0, 0, 2, 1, 4, 1], [1, 2, 0, 9, 0, 0, 1, 1, 4, 0], [0, 2, 0, 4, 6, 1, 2, 0, 0, 1], [0, 0, 1, 5, 5, 0, 2, 0, 3, 0], [0, 0, 1, 3, 6, 1, 0, 1, 1, 1], [0, 0, 1, 8, 6, 1, 2, 1, 4, 0], [1, 0, 1, 6, 3, 0, 1, 1, 3, 0], [1, 0, 1, 6, 4, 0, 2, 1, 0, 1], [0, 0, 0, 6, 6, 1, 2, 1, 3, 0], [0, 2, 2, 1, 6, 1, 2, 1, 4, 1], [0, 2, 1, 6, 6, 1, 1, 1, 4, 1], [0, 1, 0, 7, 6, 1, 2, 0, 3, 0], [1, 0, 0, 0, 6, 1, 2, 0, 3, 1], [0, 2, 0, 10, 6, 1, 0, 1, 4, 1], [1, 1, 0, 8, 0, 0, 1, 1, 3, 0], [1, 0, 1, 3, 6, 1, 1, 1, 0, 1], [0, 0, 1, 3, 6, 1, 0, 0, 1, 1], [1, 1, 0, 0, 6, 1, 1, 0, 4, 1], [0, 0, 1, 0, 4, 1, 2, 0, 4, 1], [1, 2, 0, 9, 0, 0, 1, 1, 4, 0], [0, 0, 1, 3, 6, 1, 0, 0, 4, 0], [1, 5, 1, 5, 6, 1, 1, 1, 4, 1], [0, 5, 1, 9, 6, 1, 2, 1, 4, 0], [0, 1, 0, 2, 0, 0, 1, 1, 2, 1], [0, 0, 1, 6, 6, 1, 1, 1, 3, 1], [0, 2, 0, 3, 4, 0, 1, 0, 3, 1], [1, 5, 1, 9, 6, 1, 0, 1, 3, 1], [0, 1, 0, 1, 6, 1, 1, 0, 3, 0], [1, 5, 1, 6, 6, 1, 0, 0, 3, 1], [0, 2, 1, 6, 6, 1, 0, 1, 2, 1], [0, 1, 0, 7, 6, 1, 2, 1, 4, 1], [1, 0, 1, 6, 4, 1, 2, 0, 3, 1], [0, 1, 0, 6, 0, 0, 2, 0, 0, 1], [1, 0, 1, 0, 6, 1, 2, 1, 4, 1], [0, 1, 2, 8, 6, 1, 0, 1, 0, 1], [0, 0, 1, 3, 6, 1, 2, 1, 3, 1], [0, 2, 0, 1, 6, 0, 2, 1, 2, 0], [1, 1, 0, 3, 6, 1, 1, 1, 3, 1], [0, 2, 0, 6, 6, 1, 0, 1, 3, 1], [1, 5, 1, 5, 5, 0, 1, 1, 4, 1], [0, 5, 2, 1, 6, 1, 1, 0, 3, 1], [0, 2, 0, 0, 6, 1, 2, 0, 3, 1], [0, 5, 1, 6, 0, 0, 2, 0, 0, 1], [0, 1, 0, 1, 6, 1, 2, 1, 3, 0], [0, 2, 0, 3, 6, 1, 2, 0, 3, 1], [1, 0, 0, 0, 4, 1, 1, 0, 4, 0], [0, 2, 1, 6, 4, 0, 2, 1, 4, 0], [1, 0, 1, 1, 6, 0, 1, 0, 3, 1], [0, 2, 0, 3, 2, 0, 1, 0, 3, 1], [1, 0, 1, 6, 0, 0, 1, 0, 3, 1], [0, 0, 1, 0, 6, 1, 0, 0, 4, 1], [0, 0, 1, 5, 6, 0, 1, 0, 4, 0], [0, 5, 1, 0, 4, 1, 2, 0, 2, 1], [0, 0, 1, 5, 6, 0, 1, 0, 3, 0], [0, 0, 1, 8, 6, 1, 2, 0, 3, 1], [0, 2, 0, 1, 6, 1, 2, 0, 4, 1], [0, 5, 1, 9, 6, 1, 2, 0, 0, 1], [1, 0, 1, 3, 6, 1, 1, 1, 3, 1], [1, 1, 0, 2, 6, 1, 0, 0, 0, 0], [0, 2, 0, 8, 6, 1, 2, 0, 4, 1], [0, 1, 0, 6, 6, 1, 2, 1, 3, 1], [0, 0, 1, 9, 6, 1, 0, 0, 3, 1], [0, 0, 1, 0, 6, 1, 2, 0, 3, 1], [0, 0, 1, 0, 6, 1, 2, 1, 4, 1], [1, 1, 0, 0, 1, 0, 1, 1, 4, 0], [0, 2, 2, 6, 6, 1, 1, 0, 3, 1], [0, 0, 1, 5, 5, 0, 2, 0, 0, 0], [0, 2, 1, 8, 6, 1, 2, 0, 3, 1], [0, 0, 1, 3, 6, 1, 2, 0, 3, 1], [1, 0, 1, 6, 6, 1, 1, 0, 0, 1], [0, 2, 0, 8, 6, 1, 2, 1, 4, 1], [1, 2, 0, 6, 0, 0, 1, 1, 1, 1], [0, 1, 0, 6, 6, 1, 0, 0, 3, 1], [0, 1, 0, 1, 6, 1, 2, 1, 4, 1], [0, 1, 0, 8, 6, 1, 0, 1, 4, 1], [0, 0, 1, 0, 0, 1, 2, 0, 4, 0], [0, 5, 1, 0, 6, 1, 1, 1, 2, 1], [0, 2, 1, 3, 4, 1, 2, 0, 3, 0], [0, 3, 0, 9, 6, 1, 0, 0, 3, 1], [0, 0, 1, 5, 6, 1, 0, 1, 4, 1], [0, 2, 0, 9, 6, 1, 1, 1, 3, 1], [0, 1, 0, 0, 6, 1, 2, 1, 3, 1], [0, 5, 1, 3, 0, 0, 2, 0, 3, 0], [1, 5, 1, 6, 5, 1, 2, 0, 3, 0], [1, 5, 1, 0, 4, 0, 2, 1, 4, 1], [0, 1, 0, 3, 6, 1, 1, 0, 3, 1], [0, 3, 0, 10, 6, 1, 0, 1, 1, 1], [0, 0, 1, 3, 6, 1, 1, 0, 3, 0], [0, 0, 1, 10, 6, 1, 1, 1, 2, 1], [0, 1, 0, 6, 4, 0, 1, 1, 4, 1], [1, 0, 1, 6, 2, 0, 1, 1, 4, 1], [0, 3, 0, 8, 6, 1, 2, 1, 2, 1], [0, 0, 1, 6, 6, 1, 2, 0, 0, 0], [0, 1, 2, 6, 6, 1, 0, 1, 4, 1], [1, 5, 1, 0, 6, 1, 1, 1, 3, 0], [1, 1, 0, 6, 6, 1, 1, 0, 2, 1], [1, 5, 1, 6, 4, 1, 1, 0, 3, 0], [0, 2, 0, 5, 2, 1, 1, 1, 4, 1], [1, 0, 0, 6, 4, 1, 1, 1, 4, 1], [0, 2, 0, 3, 6, 1, 1, 1, 0, 1], [0, 0, 1, 6, 6, 1, 2, 1, 1, 1], [0, 2, 0, 0, 4, 0, 2, 0, 3, 1], [0, 2, 0, 0, 6, 0, 2, 0, 3, 1], [0, 2, 1, 0, 6, 1, 0, 1, 4, 1], [0, 2, 0, 1, 6, 1, 0, 0, 2, 1], [0, 1, 0, 1, 6, 1, 0, 1, 1, 1], [0, 2, 1, 3, 6, 1, 0, 0, 3, 1], [0, 2, 1, 3, 6, 0, 2, 1, 3, 1], [1, 5, 1, 10, 6, 1, 2, 0, 2, 1], [0, 0, 1, 0, 6, 1, 2, 0, 3, 1], [1, 0, 1, 3, 6, 1, 2, 0, 4, 1], [1, 2, 1, 5, 2, 0, 1, 0, 0, 1], [0, 0, 1, 0, 4, 1, 2, 0, 3, 1], [0, 1, 0, 6, 6, 1, 2, 1, 4, 0], [0, 1, 0, 4, 6, 1, 0, 1, 2, 1], [0, 2, 1, 8, 4, 1, 0, 0, 3, 1], [1, 2, 0, 0, 6, 1, 2, 0, 2, 1], [1, 1, 0, 6, 6, 1, 1, 0, 3, 0], [0, 5, 1, 0, 4, 0, 2, 0, 3, 0], [0, 2, 0, 0, 6, 1, 1, 1, 3, 1], [0, 0, 1, 0, 6, 1, 2, 1, 1, 1], [0, 2, 0, 0, 6, 1, 0, 0, 4, 1], [1, 2, 1, 3, 6, 1, 2, 1, 0, 1], [1, 2, 0, 6, 0, 0, 2, 1, 1, 0], [1, 2, 0, 0, 6, 1, 2, 1, 3, 1], [0, 0, 1, 3, 6, 1, 2, 0, 4, 1], [0, 2, 1, 1, 6, 1, 0, 1, 4, 1], [0, 2, 0, 9, 4, 0, 2, 1, 4, 1], [0, 2, 0, 1, 6, 1, 2, 0, 0, 1], [0, 1, 0, 8, 6, 1, 0, 0, 4, 1], [1, 0, 1, 1, 2, 0, 1, 1, 4, 1], [1, 1, 0, 0, 6, 1, 0, 0, 3, 1], [0, 2, 1, 3, 4, 0, 2, 1, 4, 0], [1, 0, 1, 6, 6, 0, 1, 0, 0, 1], [1, 1, 0, 5, 0, 0, 1, 1, 4, 1], [0, 0, 1, 10, 6, 1, 2, 0, 1, 1], [1, 2, 0, 0, 4, 0, 1, 0, 0, 1], [1, 5, 1, 1, 0, 0, 1, 1, 4, 0], [1, 0, 1, 0, 4, 0, 2, 1, 4, 0], [0, 2, 1, 9, 6, 1, 2, 1, 3, 1], [1, 2, 1, 1, 6, 1, 2, 1, 4, 1], [0, 1, 0, 6, 6, 1, 2, 1, 4, 1], [1, 0, 0, 3, 3, 0, 1, 1, 1, 0], [0, 3, 0, 9, 6, 1, 0, 0, 0, 1], [0, 0, 1, 8, 6, 1, 0, 0, 1, 1], [0, 1, 0, 8, 6, 1, 2, 1, 4, 1], [0, 1, 0, 3, 6, 1, 1, 0, 4, 1], [0, 0, 1, 0, 6, 1, 2, 0, 0, 1], [0, 2, 1, 3, 6, 1, 2, 1, 4, 1], [0, 2, 0, 6, 6, 1, 0, 0, 0, 1], [0, 2, 0, 9, 6, 1, 2, 1, 4, 1], [1, 0, 1, 3, 5, 0, 1, 0, 3, 1], [1, 5, 1, 3, 4, 0, 1, 1, 4, 0], [0, 5, 1, 6, 6, 1, 2, 1, 3, 1], [0, 0, 1, 0, 6, 1, 2, 1, 2, 1], [0, 2, 0, 3, 6, 1, 0, 1, 1, 1], [0, 2, 0, 6, 6, 1, 1, 0, 4, 1], [0, 0, 1, 6, 6, 1, 2, 0, 1, 1], [0, 0, 1, 0, 6, 1, 0, 1, 1, 1], [1, 2, 0, 6, 5, 0, 1, 1, 1, 0], [0, 1, 0, 6, 6, 1, 1, 1, 4, 1], [0, 5, 1, 10, 6, 1, 2, 0, 2, 1], [0, 0, 1, 0, 6, 1, 0, 0, 0, 1], [0, 2, 1, 3, 6, 1, 2, 1, 4, 1], [0, 1, 0, 6, 6, 1, 0, 1, 3, 1], [1, 1, 0, 6, 4, 0, 2, 1, 2, 0], [0, 0, 1, 0, 6, 1, 1, 0, 4, 0], [0, 2, 0, 3, 6, 1, 0, 1, 4, 1], [0, 5, 1, 8, 6, 1, 0, 0, 4, 1], [0, 5, 1, 3, 6, 1, 2, 0, 4, 1], [0, 1, 0, 3, 6, 1, 2, 1, 4, 1], [0, 2, 1, 3, 6, 1, 2, 0, 1, 1], [0, 1, 0, 8, 6, 1, 0, 1, 3, 1], [0, 2, 0, 5, 6, 1, 1, 1, 3, 1], [0, 0, 1, 9, 6, 1, 2, 0, 4, 1], [1, 2, 0, 5, 6, 1, 2, 1, 4, 1], [0, 1, 0, 0, 6, 1, 0, 1, 4, 1], [1, 0, 1, 1, 6, 1, 2, 1, 3, 1], [0, 2, 0, 8, 6, 1, 0, 1, 4, 1], [0, 1, 0, 8, 6, 1, 0, 1, 3, 1], [0, 2, 1, 8, 6, 1, 0, 1, 4, 1], [0, 1, 0, 9, 4, 1, 2, 0, 3, 0], [0, 1, 0, 1, 6, 1, 0, 0, 3, 1], [1, 5, 1, 3, 0, 0, 1, 1, 1, 0], [0, 5, 1, 1, 6, 1, 0, 1, 4, 1], [0, 2, 0, 7, 6, 1, 0, 0, 0, 1], [0, 1, 0, 0, 6, 1, 2, 0, 3, 1], [0, 1, 0, 3, 6, 1, 2, 0, 4, 1], [1, 2, 1, 6, 6, 1, 1, 1, 0, 1], [1, 5, 1, 1, 6, 1, 0, 0, 4, 1], [0, 2, 0, 1, 6, 1, 0, 0, 2, 1], [0, 0, 1, 4, 6, 1, 0, 1, 4, 0], [0, 0, 1, 9, 4, 0, 1, 0, 3, 0], [0, 2, 0, 10, 6, 1, 0, 0, 2, 1], [1, 0, 1, 3, 6, 1, 2, 1, 4, 0], [0, 2, 0, 9, 6, 1, 1, 0, 3, 1], [0, 2, 1, 1, 6, 1, 2, 0, 1, 1], [0, 0, 1, 8, 6, 1, 2, 0, 4, 1], [1, 0, 1, 3, 6, 1, 2, 0, 4, 1], [1, 1, 0, 9, 4, 0, 1, 0, 4, 1], [0, 0, 1, 6, 6, 1, 1, 0, 0, 1], [0, 5, 1, 6, 6, 1, 1, 1, 4, 1], [0, 0, 1, 8, 6, 1, 2, 1, 3, 1], [1, 2, 0, 6, 4, 1, 1, 0, 3, 1], [0, 2, 0, 9, 6, 1, 1, 1, 0, 1], [1, 1, 0, 7, 6, 1, 1, 0, 3, 1], [1, 1, 0, 0, 4, 1, 2, 1, 4, 0], [1, 0, 1, 0, 4, 0, 2, 0, 0, 0], [1, 1, 0, 9, 6, 1, 2, 0, 4, 1], [0, 1, 0, 1, 6, 1, 2, 1, 4, 1], [0, 2, 1, 5, 6, 1, 2, 0, 3, 1], [0, 2, 1, 7, 6, 0, 2, 0, 3, 0], [0, 1, 0, 8, 6, 1, 2, 0, 3, 0], [0, 0, 0, 3, 6, 1, 2, 1, 4, 1], [1, 0, 1, 6, 6, 1, 0, 1, 4, 0], [0, 2, 1, 0, 4, 0, 2, 1, 4, 1], [0, 0, 1, 3, 6, 1, 2, 0, 2, 1], [0, 2, 0, 0, 6, 1, 1, 1, 3, 1], [1, 5, 1, 6, 6, 1, 2, 1, 3, 1], [0, 0, 1, 6, 6, 1, 0, 0, 3, 1], [1, 5, 1, 5, 6, 1, 1, 1, 4, 1], [1, 0, 1, 5, 6, 1, 0, 0, 3, 1], [0, 0, 1, 8, 6, 1, 0, 0, 3, 1], [0, 5, 1, 3, 6, 1, 2, 1, 4, 1], [0, 2, 0, 5, 6, 1, 2, 1, 3, 1], [0, 0, 1, 6, 6, 1, 0, 1, 4, 1], [0, 0, 1, 3, 6, 1, 2, 1, 3, 0], [0, 0, 1, 2, 6, 1, 2, 1, 4, 0], [0, 0, 0, 0, 6, 1, 1, 1, 4, 1], [1, 2, 1, 3, 4, 0, 1, 1, 4, 0], [0, 5, 1, 9, 4, 1, 1, 0, 0, 0], [0, 1, 0, 1, 6, 1, 2, 0, 3, 1], [0, 0, 1, 6, 0, 1, 2, 1, 3, 1], [0, 2, 0, 5, 6, 1, 1, 1, 4, 1], [0, 5, 1, 4, 6, 1, 2, 1, 1, 1], [0, 0, 1, 8, 6, 1, 0, 0, 3, 1]]\n"
          ],
          "name": "stdout"
        }
      ]
    },
    {
      "cell_type": "code",
      "metadata": {
        "id": "1QWehu6RjCXW",
        "colab_type": "code",
        "colab": {
          "base_uri": "https://localhost:8080/",
          "height": 377
        },
        "outputId": "8a494159-e4ab-4294-9f7b-e47b339a175c"
      },
      "source": [
        "#splitting the dataset into k-folds\n",
        "n_fold = 10\n",
        "folds = list()\n",
        "index = int(len(dataset)/n_fold)\n",
        "for i in range(n_fold):\n",
        "  fold = dataset[int(i*index):int((i+1)*index)]\n",
        "  folds.append(fold)\n",
        "\n",
        "#append last remaining rows from dataset to last fold\n",
        "folds[-1] += dataset[index*n_fold:] \n",
        "\n",
        "for fold in folds:\n",
        "  print(len(fold))\n",
        "  print(fold)"
      ],
      "execution_count": null,
      "outputs": [
        {
          "output_type": "stream",
          "text": [
            "27\n",
            "[[0, 5, 1, 3, 6, 1, 0, 1, 2, 1], [0, 0, 1, 0, 6, 1, 2, 1, 3, 1], [1, 2, 1, 6, 6, 1, 1, 0, 3, 0], [1, 2, 0, 6, 4, 1, 1, 1, 4, 1], [1, 1, 0, 3, 4, 1, 2, 0, 0, 1], [0, 0, 1, 1, 3, 1, 1, 0, 1, 0], [0, 0, 1, 6, 6, 1, 0, 1, 0, 1], [0, 0, 0, 0, 6, 1, 1, 1, 3, 1], [0, 5, 1, 1, 6, 1, 0, 1, 4, 1], [0, 2, 0, 8, 6, 1, 0, 1, 3, 1], [0, 3, 0, 0, 6, 1, 1, 1, 3, 1], [0, 2, 0, 10, 6, 1, 2, 1, 2, 1], [0, 1, 0, 1, 6, 1, 2, 0, 3, 1], [1, 2, 0, 3, 0, 1, 1, 1, 4, 0], [0, 2, 1, 3, 6, 1, 0, 1, 4, 1], [1, 1, 0, 3, 6, 1, 1, 1, 1, 0], [1, 0, 1, 7, 6, 1, 2, 0, 4, 0], [0, 2, 1, 8, 6, 1, 1, 1, 4, 1], [1, 2, 1, 3, 6, 1, 0, 0, 3, 1], [0, 0, 1, 1, 6, 1, 2, 1, 4, 1], [1, 2, 1, 7, 5, 0, 2, 0, 3, 1], [0, 0, 1, 7, 6, 1, 2, 1, 4, 1], [0, 0, 1, 6, 4, 0, 2, 0, 4, 1], [0, 0, 0, 9, 2, 0, 2, 0, 3, 0], [1, 2, 1, 3, 6, 1, 2, 1, 0, 1], [0, 2, 0, 8, 6, 1, 0, 0, 3, 1], [0, 2, 0, 0, 6, 1, 1, 0, 3, 1]]\n",
            "27\n",
            "[[0, 1, 0, 0, 6, 1, 0, 1, 4, 1], [0, 4, 1, 5, 6, 1, 2, 0, 0, 1], [1, 1, 0, 6, 6, 0, 2, 0, 0, 0], [0, 2, 0, 3, 6, 1, 2, 1, 4, 1], [0, 2, 0, 6, 6, 1, 0, 0, 2, 1], [0, 2, 1, 1, 6, 1, 2, 0, 4, 1], [0, 5, 1, 8, 6, 1, 2, 1, 1, 1], [0, 0, 1, 5, 6, 1, 2, 0, 0, 1], [0, 2, 0, 6, 6, 1, 0, 0, 4, 1], [1, 0, 1, 9, 6, 1, 0, 1, 4, 1], [0, 0, 1, 8, 6, 1, 2, 1, 4, 1], [1, 2, 1, 3, 6, 1, 1, 0, 4, 0], [0, 5, 1, 0, 6, 1, 2, 1, 1, 1], [0, 1, 0, 1, 6, 1, 2, 0, 4, 1], [0, 2, 0, 6, 0, 0, 2, 1, 4, 1], [1, 2, 0, 9, 0, 0, 1, 1, 4, 0], [0, 2, 0, 4, 6, 1, 2, 0, 0, 1], [0, 0, 1, 5, 5, 0, 2, 0, 3, 0], [0, 0, 1, 3, 6, 1, 0, 1, 1, 1], [0, 0, 1, 8, 6, 1, 2, 1, 4, 0], [1, 0, 1, 6, 3, 0, 1, 1, 3, 0], [1, 0, 1, 6, 4, 0, 2, 1, 0, 1], [0, 0, 0, 6, 6, 1, 2, 1, 3, 0], [0, 2, 2, 1, 6, 1, 2, 1, 4, 1], [0, 2, 1, 6, 6, 1, 1, 1, 4, 1], [0, 1, 0, 7, 6, 1, 2, 0, 3, 0], [1, 0, 0, 0, 6, 1, 2, 0, 3, 1]]\n",
            "27\n",
            "[[0, 2, 0, 10, 6, 1, 0, 1, 4, 1], [1, 1, 0, 8, 0, 0, 1, 1, 3, 0], [1, 0, 1, 3, 6, 1, 1, 1, 0, 1], [0, 0, 1, 3, 6, 1, 0, 0, 1, 1], [1, 1, 0, 0, 6, 1, 1, 0, 4, 1], [0, 0, 1, 0, 4, 1, 2, 0, 4, 1], [1, 2, 0, 9, 0, 0, 1, 1, 4, 0], [0, 0, 1, 3, 6, 1, 0, 0, 4, 0], [1, 5, 1, 5, 6, 1, 1, 1, 4, 1], [0, 5, 1, 9, 6, 1, 2, 1, 4, 0], [0, 1, 0, 2, 0, 0, 1, 1, 2, 1], [0, 0, 1, 6, 6, 1, 1, 1, 3, 1], [0, 2, 0, 3, 4, 0, 1, 0, 3, 1], [1, 5, 1, 9, 6, 1, 0, 1, 3, 1], [0, 1, 0, 1, 6, 1, 1, 0, 3, 0], [1, 5, 1, 6, 6, 1, 0, 0, 3, 1], [0, 2, 1, 6, 6, 1, 0, 1, 2, 1], [0, 1, 0, 7, 6, 1, 2, 1, 4, 1], [1, 0, 1, 6, 4, 1, 2, 0, 3, 1], [0, 1, 0, 6, 0, 0, 2, 0, 0, 1], [1, 0, 1, 0, 6, 1, 2, 1, 4, 1], [0, 1, 2, 8, 6, 1, 0, 1, 0, 1], [0, 0, 1, 3, 6, 1, 2, 1, 3, 1], [0, 2, 0, 1, 6, 0, 2, 1, 2, 0], [1, 1, 0, 3, 6, 1, 1, 1, 3, 1], [0, 2, 0, 6, 6, 1, 0, 1, 3, 1], [1, 5, 1, 5, 5, 0, 1, 1, 4, 1]]\n",
            "27\n",
            "[[0, 5, 2, 1, 6, 1, 1, 0, 3, 1], [0, 2, 0, 0, 6, 1, 2, 0, 3, 1], [0, 5, 1, 6, 0, 0, 2, 0, 0, 1], [0, 1, 0, 1, 6, 1, 2, 1, 3, 0], [0, 2, 0, 3, 6, 1, 2, 0, 3, 1], [1, 0, 0, 0, 4, 1, 1, 0, 4, 0], [0, 2, 1, 6, 4, 0, 2, 1, 4, 0], [1, 0, 1, 1, 6, 0, 1, 0, 3, 1], [0, 2, 0, 3, 2, 0, 1, 0, 3, 1], [1, 0, 1, 6, 0, 0, 1, 0, 3, 1], [0, 0, 1, 0, 6, 1, 0, 0, 4, 1], [0, 0, 1, 5, 6, 0, 1, 0, 4, 0], [0, 5, 1, 0, 4, 1, 2, 0, 2, 1], [0, 0, 1, 5, 6, 0, 1, 0, 3, 0], [0, 0, 1, 8, 6, 1, 2, 0, 3, 1], [0, 2, 0, 1, 6, 1, 2, 0, 4, 1], [0, 5, 1, 9, 6, 1, 2, 0, 0, 1], [1, 0, 1, 3, 6, 1, 1, 1, 3, 1], [1, 1, 0, 2, 6, 1, 0, 0, 0, 0], [0, 2, 0, 8, 6, 1, 2, 0, 4, 1], [0, 1, 0, 6, 6, 1, 2, 1, 3, 1], [0, 0, 1, 9, 6, 1, 0, 0, 3, 1], [0, 0, 1, 0, 6, 1, 2, 0, 3, 1], [0, 0, 1, 0, 6, 1, 2, 1, 4, 1], [1, 1, 0, 0, 1, 0, 1, 1, 4, 0], [0, 2, 2, 6, 6, 1, 1, 0, 3, 1], [0, 0, 1, 5, 5, 0, 2, 0, 0, 0]]\n",
            "27\n",
            "[[0, 2, 1, 8, 6, 1, 2, 0, 3, 1], [0, 0, 1, 3, 6, 1, 2, 0, 3, 1], [1, 0, 1, 6, 6, 1, 1, 0, 0, 1], [0, 2, 0, 8, 6, 1, 2, 1, 4, 1], [1, 2, 0, 6, 0, 0, 1, 1, 1, 1], [0, 1, 0, 6, 6, 1, 0, 0, 3, 1], [0, 1, 0, 1, 6, 1, 2, 1, 4, 1], [0, 1, 0, 8, 6, 1, 0, 1, 4, 1], [0, 0, 1, 0, 0, 1, 2, 0, 4, 0], [0, 5, 1, 0, 6, 1, 1, 1, 2, 1], [0, 2, 1, 3, 4, 1, 2, 0, 3, 0], [0, 3, 0, 9, 6, 1, 0, 0, 3, 1], [0, 0, 1, 5, 6, 1, 0, 1, 4, 1], [0, 2, 0, 9, 6, 1, 1, 1, 3, 1], [0, 1, 0, 0, 6, 1, 2, 1, 3, 1], [0, 5, 1, 3, 0, 0, 2, 0, 3, 0], [1, 5, 1, 6, 5, 1, 2, 0, 3, 0], [1, 5, 1, 0, 4, 0, 2, 1, 4, 1], [0, 1, 0, 3, 6, 1, 1, 0, 3, 1], [0, 3, 0, 10, 6, 1, 0, 1, 1, 1], [0, 0, 1, 3, 6, 1, 1, 0, 3, 0], [0, 0, 1, 10, 6, 1, 1, 1, 2, 1], [0, 1, 0, 6, 4, 0, 1, 1, 4, 1], [1, 0, 1, 6, 2, 0, 1, 1, 4, 1], [0, 3, 0, 8, 6, 1, 2, 1, 2, 1], [0, 0, 1, 6, 6, 1, 2, 0, 0, 0], [0, 1, 2, 6, 6, 1, 0, 1, 4, 1]]\n",
            "27\n",
            "[[1, 5, 1, 0, 6, 1, 1, 1, 3, 0], [1, 1, 0, 6, 6, 1, 1, 0, 2, 1], [1, 5, 1, 6, 4, 1, 1, 0, 3, 0], [0, 2, 0, 5, 2, 1, 1, 1, 4, 1], [1, 0, 0, 6, 4, 1, 1, 1, 4, 1], [0, 2, 0, 3, 6, 1, 1, 1, 0, 1], [0, 0, 1, 6, 6, 1, 2, 1, 1, 1], [0, 2, 0, 0, 4, 0, 2, 0, 3, 1], [0, 2, 0, 0, 6, 0, 2, 0, 3, 1], [0, 2, 1, 0, 6, 1, 0, 1, 4, 1], [0, 2, 0, 1, 6, 1, 0, 0, 2, 1], [0, 1, 0, 1, 6, 1, 0, 1, 1, 1], [0, 2, 1, 3, 6, 1, 0, 0, 3, 1], [0, 2, 1, 3, 6, 0, 2, 1, 3, 1], [1, 5, 1, 10, 6, 1, 2, 0, 2, 1], [0, 0, 1, 0, 6, 1, 2, 0, 3, 1], [1, 0, 1, 3, 6, 1, 2, 0, 4, 1], [1, 2, 1, 5, 2, 0, 1, 0, 0, 1], [0, 0, 1, 0, 4, 1, 2, 0, 3, 1], [0, 1, 0, 6, 6, 1, 2, 1, 4, 0], [0, 1, 0, 4, 6, 1, 0, 1, 2, 1], [0, 2, 1, 8, 4, 1, 0, 0, 3, 1], [1, 2, 0, 0, 6, 1, 2, 0, 2, 1], [1, 1, 0, 6, 6, 1, 1, 0, 3, 0], [0, 5, 1, 0, 4, 0, 2, 0, 3, 0], [0, 2, 0, 0, 6, 1, 1, 1, 3, 1], [0, 0, 1, 0, 6, 1, 2, 1, 1, 1]]\n",
            "27\n",
            "[[0, 2, 0, 0, 6, 1, 0, 0, 4, 1], [1, 2, 1, 3, 6, 1, 2, 1, 0, 1], [1, 2, 0, 6, 0, 0, 2, 1, 1, 0], [1, 2, 0, 0, 6, 1, 2, 1, 3, 1], [0, 0, 1, 3, 6, 1, 2, 0, 4, 1], [0, 2, 1, 1, 6, 1, 0, 1, 4, 1], [0, 2, 0, 9, 4, 0, 2, 1, 4, 1], [0, 2, 0, 1, 6, 1, 2, 0, 0, 1], [0, 1, 0, 8, 6, 1, 0, 0, 4, 1], [1, 0, 1, 1, 2, 0, 1, 1, 4, 1], [1, 1, 0, 0, 6, 1, 0, 0, 3, 1], [0, 2, 1, 3, 4, 0, 2, 1, 4, 0], [1, 0, 1, 6, 6, 0, 1, 0, 0, 1], [1, 1, 0, 5, 0, 0, 1, 1, 4, 1], [0, 0, 1, 10, 6, 1, 2, 0, 1, 1], [1, 2, 0, 0, 4, 0, 1, 0, 0, 1], [1, 5, 1, 1, 0, 0, 1, 1, 4, 0], [1, 0, 1, 0, 4, 0, 2, 1, 4, 0], [0, 2, 1, 9, 6, 1, 2, 1, 3, 1], [1, 2, 1, 1, 6, 1, 2, 1, 4, 1], [0, 1, 0, 6, 6, 1, 2, 1, 4, 1], [1, 0, 0, 3, 3, 0, 1, 1, 1, 0], [0, 3, 0, 9, 6, 1, 0, 0, 0, 1], [0, 0, 1, 8, 6, 1, 0, 0, 1, 1], [0, 1, 0, 8, 6, 1, 2, 1, 4, 1], [0, 1, 0, 3, 6, 1, 1, 0, 4, 1], [0, 0, 1, 0, 6, 1, 2, 0, 0, 1]]\n",
            "27\n",
            "[[0, 2, 1, 3, 6, 1, 2, 1, 4, 1], [0, 2, 0, 6, 6, 1, 0, 0, 0, 1], [0, 2, 0, 9, 6, 1, 2, 1, 4, 1], [1, 0, 1, 3, 5, 0, 1, 0, 3, 1], [1, 5, 1, 3, 4, 0, 1, 1, 4, 0], [0, 5, 1, 6, 6, 1, 2, 1, 3, 1], [0, 0, 1, 0, 6, 1, 2, 1, 2, 1], [0, 2, 0, 3, 6, 1, 0, 1, 1, 1], [0, 2, 0, 6, 6, 1, 1, 0, 4, 1], [0, 0, 1, 6, 6, 1, 2, 0, 1, 1], [0, 0, 1, 0, 6, 1, 0, 1, 1, 1], [1, 2, 0, 6, 5, 0, 1, 1, 1, 0], [0, 1, 0, 6, 6, 1, 1, 1, 4, 1], [0, 5, 1, 10, 6, 1, 2, 0, 2, 1], [0, 0, 1, 0, 6, 1, 0, 0, 0, 1], [0, 2, 1, 3, 6, 1, 2, 1, 4, 1], [0, 1, 0, 6, 6, 1, 0, 1, 3, 1], [1, 1, 0, 6, 4, 0, 2, 1, 2, 0], [0, 0, 1, 0, 6, 1, 1, 0, 4, 0], [0, 2, 0, 3, 6, 1, 0, 1, 4, 1], [0, 5, 1, 8, 6, 1, 0, 0, 4, 1], [0, 5, 1, 3, 6, 1, 2, 0, 4, 1], [0, 1, 0, 3, 6, 1, 2, 1, 4, 1], [0, 2, 1, 3, 6, 1, 2, 0, 1, 1], [0, 1, 0, 8, 6, 1, 0, 1, 3, 1], [0, 2, 0, 5, 6, 1, 1, 1, 3, 1], [0, 0, 1, 9, 6, 1, 2, 0, 4, 1]]\n",
            "27\n",
            "[[1, 2, 0, 5, 6, 1, 2, 1, 4, 1], [0, 1, 0, 0, 6, 1, 0, 1, 4, 1], [1, 0, 1, 1, 6, 1, 2, 1, 3, 1], [0, 2, 0, 8, 6, 1, 0, 1, 4, 1], [0, 1, 0, 8, 6, 1, 0, 1, 3, 1], [0, 2, 1, 8, 6, 1, 0, 1, 4, 1], [0, 1, 0, 9, 4, 1, 2, 0, 3, 0], [0, 1, 0, 1, 6, 1, 0, 0, 3, 1], [1, 5, 1, 3, 0, 0, 1, 1, 1, 0], [0, 5, 1, 1, 6, 1, 0, 1, 4, 1], [0, 2, 0, 7, 6, 1, 0, 0, 0, 1], [0, 1, 0, 0, 6, 1, 2, 0, 3, 1], [0, 1, 0, 3, 6, 1, 2, 0, 4, 1], [1, 2, 1, 6, 6, 1, 1, 1, 0, 1], [1, 5, 1, 1, 6, 1, 0, 0, 4, 1], [0, 2, 0, 1, 6, 1, 0, 0, 2, 1], [0, 0, 1, 4, 6, 1, 0, 1, 4, 0], [0, 0, 1, 9, 4, 0, 1, 0, 3, 0], [0, 2, 0, 10, 6, 1, 0, 0, 2, 1], [1, 0, 1, 3, 6, 1, 2, 1, 4, 0], [0, 2, 0, 9, 6, 1, 1, 0, 3, 1], [0, 2, 1, 1, 6, 1, 2, 0, 1, 1], [0, 0, 1, 8, 6, 1, 2, 0, 4, 1], [1, 0, 1, 3, 6, 1, 2, 0, 4, 1], [1, 1, 0, 9, 4, 0, 1, 0, 4, 1], [0, 0, 1, 6, 6, 1, 1, 0, 0, 1], [0, 5, 1, 6, 6, 1, 1, 1, 4, 1]]\n",
            "34\n",
            "[[0, 0, 1, 8, 6, 1, 2, 1, 3, 1], [1, 2, 0, 6, 4, 1, 1, 0, 3, 1], [0, 2, 0, 9, 6, 1, 1, 1, 0, 1], [1, 1, 0, 7, 6, 1, 1, 0, 3, 1], [1, 1, 0, 0, 4, 1, 2, 1, 4, 0], [1, 0, 1, 0, 4, 0, 2, 0, 0, 0], [1, 1, 0, 9, 6, 1, 2, 0, 4, 1], [0, 1, 0, 1, 6, 1, 2, 1, 4, 1], [0, 2, 1, 5, 6, 1, 2, 0, 3, 1], [0, 2, 1, 7, 6, 0, 2, 0, 3, 0], [0, 1, 0, 8, 6, 1, 2, 0, 3, 0], [0, 0, 0, 3, 6, 1, 2, 1, 4, 1], [1, 0, 1, 6, 6, 1, 0, 1, 4, 0], [0, 2, 1, 0, 4, 0, 2, 1, 4, 1], [0, 0, 1, 3, 6, 1, 2, 0, 2, 1], [0, 2, 0, 0, 6, 1, 1, 1, 3, 1], [1, 5, 1, 6, 6, 1, 2, 1, 3, 1], [0, 0, 1, 6, 6, 1, 0, 0, 3, 1], [1, 5, 1, 5, 6, 1, 1, 1, 4, 1], [1, 0, 1, 5, 6, 1, 0, 0, 3, 1], [0, 0, 1, 8, 6, 1, 0, 0, 3, 1], [0, 5, 1, 3, 6, 1, 2, 1, 4, 1], [0, 2, 0, 5, 6, 1, 2, 1, 3, 1], [0, 0, 1, 6, 6, 1, 0, 1, 4, 1], [0, 0, 1, 3, 6, 1, 2, 1, 3, 0], [0, 0, 1, 2, 6, 1, 2, 1, 4, 0], [0, 0, 0, 0, 6, 1, 1, 1, 4, 1], [1, 2, 1, 3, 4, 0, 1, 1, 4, 0], [0, 5, 1, 9, 4, 1, 1, 0, 0, 0], [0, 1, 0, 1, 6, 1, 2, 0, 3, 1], [0, 0, 1, 6, 0, 1, 2, 1, 3, 1], [0, 2, 0, 5, 6, 1, 1, 1, 4, 1], [0, 5, 1, 4, 6, 1, 2, 1, 1, 1], [0, 0, 1, 8, 6, 1, 0, 0, 3, 1]]\n"
          ],
          "name": "stdout"
        }
      ]
    },
    {
      "cell_type": "code",
      "metadata": {
        "id": "aSnBxZD39-WL",
        "colab_type": "code",
        "colab": {}
      },
      "source": [
        "def accuracy_metric(actual, predicted):\n",
        "\tcorrect = 0\n",
        "\tfor i in range(len(actual)):\n",
        "\t\tif actual[i] == predicted[i]:\n",
        "\t\t\tcorrect += 1\n",
        "\treturn correct / float(len(actual)) * 100.0\n",
        "\n",
        "#different distance measures\n",
        "def euclidean_distance(row1, row2):\n",
        "\tdistance = 0.0\n",
        "\tfor i in range(len(row1)-1):\n",
        "\t\tdistance += (row1[i] - row2[i])**2\n",
        "\treturn sqrt(distance)\n",
        " \n",
        "def norm_euclidean_distance(row1,row2):   \n",
        "  distance = 0.0\n",
        "  for i in range(len(row1)-1):\n",
        "      mean = (row1[i]-row2[i])/2\n",
        "      d = sqrt( (row1[i] - mean) ** 2 + (row2[i] - mean) ** 2 )\n",
        "      distance += ((row1[i]-row2[i])/d ) ** 2\n",
        "  return sqrt(distance)\n",
        "\n",
        "def cosine_similarity(row1,row2):   \n",
        "  distance = 0.0\n",
        "  x,y = 0,0\n",
        "  for i in range(len(row1)-1):\n",
        "      distance += row1[i]*row2[i]\n",
        "      x += row1[i]**2 \n",
        "      y += row2[i]**2 \n",
        "      similarity = distance/( (x*y)**(1/2)) \n",
        "      \n",
        "  return (1-similarity)\n",
        "\n",
        "def manhattan_distance(row1,row2):\n",
        "  x = row1[:len(row1)-1]\n",
        "  y = row2[:len(row2)-1]\n",
        "  return sum(abs(a-b) for a,b in zip(x,y))\n",
        "\n",
        "def minkowski_distance(row1, row2):\n",
        "  x = row1[:len(row1)-1]\n",
        "  y = row2[:len(row2)-1]\n",
        "  value = sum(pow(abs(a-b),3) for a,b in zip(x, y))\n",
        "  root_value = 1/float(3)\n",
        "  return round (Decimal(value) ** Decimal(root_value),3)\n",
        "\n",
        "def hamming_distance(row1, row2):\n",
        "  x = row1[:len(row1)-1]\n",
        "  y = row2[:len(row2)-1]\n",
        "  return sum(abs(e1 - e2) for e1, e2 in zip(x, y)) / len(x)"
      ],
      "execution_count": null,
      "outputs": []
    },
    {
      "cell_type": "code",
      "metadata": {
        "id": "SCJqvI-bZ_HQ",
        "colab_type": "code",
        "colab": {}
      },
      "source": [
        "num_neighbors_list = [1, 3, 5, 7]"
      ],
      "execution_count": null,
      "outputs": []
    },
    {
      "cell_type": "markdown",
      "metadata": {
        "id": "m2bzkRTszVrR",
        "colab_type": "text"
      },
      "source": [
        "**knn using euclidean distance**\n"
      ]
    },
    {
      "cell_type": "code",
      "metadata": {
        "id": "LboDF4q-o7HW",
        "colab_type": "code",
        "colab": {
          "base_uri": "https://localhost:8080/",
          "height": 377
        },
        "outputId": "17c7f24e-d583-48d4-ceda-337d3aa25b2f"
      },
      "source": [
        "#first we will normalize every fold to get better accuracy \n",
        "norm_folds = copy.deepcopy(folds)\n",
        "for fold in norm_folds:\n",
        "  minmax = list()\n",
        "  for i in range(len(fold[0])):\n",
        "    col_values = [row[i] for row in dataset]\n",
        "    value_min = min(col_values)\n",
        "    value_max = max(col_values)\n",
        "    minmax.append([value_min, value_max])\n",
        "  for row in fold:\n",
        "    for i in range(len(row)):\n",
        "      row[i] = (row[i] - minmax[i][0]) / (minmax[i][1] - minmax[i][0])\n",
        "\n",
        "  print(len(fold))\n",
        "  print(fold)\n"
      ],
      "execution_count": null,
      "outputs": [
        {
          "output_type": "stream",
          "text": [
            "27\n",
            "[[0.0, 1.0, 0.5, 0.3, 1.0, 1.0, 0.0, 1.0, 0.5, 1.0], [0.0, 0.0, 0.5, 0.0, 1.0, 1.0, 1.0, 1.0, 0.75, 1.0], [1.0, 0.4, 0.5, 0.6, 1.0, 1.0, 0.5, 0.0, 0.75, 0.0], [1.0, 0.4, 0.0, 0.6, 0.6666666666666666, 1.0, 0.5, 1.0, 1.0, 1.0], [1.0, 0.2, 0.0, 0.3, 0.6666666666666666, 1.0, 1.0, 0.0, 0.0, 1.0], [0.0, 0.0, 0.5, 0.1, 0.5, 1.0, 0.5, 0.0, 0.25, 0.0], [0.0, 0.0, 0.5, 0.6, 1.0, 1.0, 0.0, 1.0, 0.0, 1.0], [0.0, 0.0, 0.0, 0.0, 1.0, 1.0, 0.5, 1.0, 0.75, 1.0], [0.0, 1.0, 0.5, 0.1, 1.0, 1.0, 0.0, 1.0, 1.0, 1.0], [0.0, 0.4, 0.0, 0.8, 1.0, 1.0, 0.0, 1.0, 0.75, 1.0], [0.0, 0.6, 0.0, 0.0, 1.0, 1.0, 0.5, 1.0, 0.75, 1.0], [0.0, 0.4, 0.0, 1.0, 1.0, 1.0, 1.0, 1.0, 0.5, 1.0], [0.0, 0.2, 0.0, 0.1, 1.0, 1.0, 1.0, 0.0, 0.75, 1.0], [1.0, 0.4, 0.0, 0.3, 0.0, 1.0, 0.5, 1.0, 1.0, 0.0], [0.0, 0.4, 0.5, 0.3, 1.0, 1.0, 0.0, 1.0, 1.0, 1.0], [1.0, 0.2, 0.0, 0.3, 1.0, 1.0, 0.5, 1.0, 0.25, 0.0], [1.0, 0.0, 0.5, 0.7, 1.0, 1.0, 1.0, 0.0, 1.0, 0.0], [0.0, 0.4, 0.5, 0.8, 1.0, 1.0, 0.5, 1.0, 1.0, 1.0], [1.0, 0.4, 0.5, 0.3, 1.0, 1.0, 0.0, 0.0, 0.75, 1.0], [0.0, 0.0, 0.5, 0.1, 1.0, 1.0, 1.0, 1.0, 1.0, 1.0], [1.0, 0.4, 0.5, 0.7, 0.8333333333333334, 0.0, 1.0, 0.0, 0.75, 1.0], [0.0, 0.0, 0.5, 0.7, 1.0, 1.0, 1.0, 1.0, 1.0, 1.0], [0.0, 0.0, 0.5, 0.6, 0.6666666666666666, 0.0, 1.0, 0.0, 1.0, 1.0], [0.0, 0.0, 0.0, 0.9, 0.3333333333333333, 0.0, 1.0, 0.0, 0.75, 0.0], [1.0, 0.4, 0.5, 0.3, 1.0, 1.0, 1.0, 1.0, 0.0, 1.0], [0.0, 0.4, 0.0, 0.8, 1.0, 1.0, 0.0, 0.0, 0.75, 1.0], [0.0, 0.4, 0.0, 0.0, 1.0, 1.0, 0.5, 0.0, 0.75, 1.0]]\n",
            "27\n",
            "[[0.0, 0.2, 0.0, 0.0, 1.0, 1.0, 0.0, 1.0, 1.0, 1.0], [0.0, 0.8, 0.5, 0.5, 1.0, 1.0, 1.0, 0.0, 0.0, 1.0], [1.0, 0.2, 0.0, 0.6, 1.0, 0.0, 1.0, 0.0, 0.0, 0.0], [0.0, 0.4, 0.0, 0.3, 1.0, 1.0, 1.0, 1.0, 1.0, 1.0], [0.0, 0.4, 0.0, 0.6, 1.0, 1.0, 0.0, 0.0, 0.5, 1.0], [0.0, 0.4, 0.5, 0.1, 1.0, 1.0, 1.0, 0.0, 1.0, 1.0], [0.0, 1.0, 0.5, 0.8, 1.0, 1.0, 1.0, 1.0, 0.25, 1.0], [0.0, 0.0, 0.5, 0.5, 1.0, 1.0, 1.0, 0.0, 0.0, 1.0], [0.0, 0.4, 0.0, 0.6, 1.0, 1.0, 0.0, 0.0, 1.0, 1.0], [1.0, 0.0, 0.5, 0.9, 1.0, 1.0, 0.0, 1.0, 1.0, 1.0], [0.0, 0.0, 0.5, 0.8, 1.0, 1.0, 1.0, 1.0, 1.0, 1.0], [1.0, 0.4, 0.5, 0.3, 1.0, 1.0, 0.5, 0.0, 1.0, 0.0], [0.0, 1.0, 0.5, 0.0, 1.0, 1.0, 1.0, 1.0, 0.25, 1.0], [0.0, 0.2, 0.0, 0.1, 1.0, 1.0, 1.0, 0.0, 1.0, 1.0], [0.0, 0.4, 0.0, 0.6, 0.0, 0.0, 1.0, 1.0, 1.0, 1.0], [1.0, 0.4, 0.0, 0.9, 0.0, 0.0, 0.5, 1.0, 1.0, 0.0], [0.0, 0.4, 0.0, 0.4, 1.0, 1.0, 1.0, 0.0, 0.0, 1.0], [0.0, 0.0, 0.5, 0.5, 0.8333333333333334, 0.0, 1.0, 0.0, 0.75, 0.0], [0.0, 0.0, 0.5, 0.3, 1.0, 1.0, 0.0, 1.0, 0.25, 1.0], [0.0, 0.0, 0.5, 0.8, 1.0, 1.0, 1.0, 1.0, 1.0, 0.0], [1.0, 0.0, 0.5, 0.6, 0.5, 0.0, 0.5, 1.0, 0.75, 0.0], [1.0, 0.0, 0.5, 0.6, 0.6666666666666666, 0.0, 1.0, 1.0, 0.0, 1.0], [0.0, 0.0, 0.0, 0.6, 1.0, 1.0, 1.0, 1.0, 0.75, 0.0], [0.0, 0.4, 1.0, 0.1, 1.0, 1.0, 1.0, 1.0, 1.0, 1.0], [0.0, 0.4, 0.5, 0.6, 1.0, 1.0, 0.5, 1.0, 1.0, 1.0], [0.0, 0.2, 0.0, 0.7, 1.0, 1.0, 1.0, 0.0, 0.75, 0.0], [1.0, 0.0, 0.0, 0.0, 1.0, 1.0, 1.0, 0.0, 0.75, 1.0]]\n",
            "27\n",
            "[[0.0, 0.4, 0.0, 1.0, 1.0, 1.0, 0.0, 1.0, 1.0, 1.0], [1.0, 0.2, 0.0, 0.8, 0.0, 0.0, 0.5, 1.0, 0.75, 0.0], [1.0, 0.0, 0.5, 0.3, 1.0, 1.0, 0.5, 1.0, 0.0, 1.0], [0.0, 0.0, 0.5, 0.3, 1.0, 1.0, 0.0, 0.0, 0.25, 1.0], [1.0, 0.2, 0.0, 0.0, 1.0, 1.0, 0.5, 0.0, 1.0, 1.0], [0.0, 0.0, 0.5, 0.0, 0.6666666666666666, 1.0, 1.0, 0.0, 1.0, 1.0], [1.0, 0.4, 0.0, 0.9, 0.0, 0.0, 0.5, 1.0, 1.0, 0.0], [0.0, 0.0, 0.5, 0.3, 1.0, 1.0, 0.0, 0.0, 1.0, 0.0], [1.0, 1.0, 0.5, 0.5, 1.0, 1.0, 0.5, 1.0, 1.0, 1.0], [0.0, 1.0, 0.5, 0.9, 1.0, 1.0, 1.0, 1.0, 1.0, 0.0], [0.0, 0.2, 0.0, 0.2, 0.0, 0.0, 0.5, 1.0, 0.5, 1.0], [0.0, 0.0, 0.5, 0.6, 1.0, 1.0, 0.5, 1.0, 0.75, 1.0], [0.0, 0.4, 0.0, 0.3, 0.6666666666666666, 0.0, 0.5, 0.0, 0.75, 1.0], [1.0, 1.0, 0.5, 0.9, 1.0, 1.0, 0.0, 1.0, 0.75, 1.0], [0.0, 0.2, 0.0, 0.1, 1.0, 1.0, 0.5, 0.0, 0.75, 0.0], [1.0, 1.0, 0.5, 0.6, 1.0, 1.0, 0.0, 0.0, 0.75, 1.0], [0.0, 0.4, 0.5, 0.6, 1.0, 1.0, 0.0, 1.0, 0.5, 1.0], [0.0, 0.2, 0.0, 0.7, 1.0, 1.0, 1.0, 1.0, 1.0, 1.0], [1.0, 0.0, 0.5, 0.6, 0.6666666666666666, 1.0, 1.0, 0.0, 0.75, 1.0], [0.0, 0.2, 0.0, 0.6, 0.0, 0.0, 1.0, 0.0, 0.0, 1.0], [1.0, 0.0, 0.5, 0.0, 1.0, 1.0, 1.0, 1.0, 1.0, 1.0], [0.0, 0.2, 1.0, 0.8, 1.0, 1.0, 0.0, 1.0, 0.0, 1.0], [0.0, 0.0, 0.5, 0.3, 1.0, 1.0, 1.0, 1.0, 0.75, 1.0], [0.0, 0.4, 0.0, 0.1, 1.0, 0.0, 1.0, 1.0, 0.5, 0.0], [1.0, 0.2, 0.0, 0.3, 1.0, 1.0, 0.5, 1.0, 0.75, 1.0], [0.0, 0.4, 0.0, 0.6, 1.0, 1.0, 0.0, 1.0, 0.75, 1.0], [1.0, 1.0, 0.5, 0.5, 0.8333333333333334, 0.0, 0.5, 1.0, 1.0, 1.0]]\n",
            "27\n",
            "[[0.0, 1.0, 1.0, 0.1, 1.0, 1.0, 0.5, 0.0, 0.75, 1.0], [0.0, 0.4, 0.0, 0.0, 1.0, 1.0, 1.0, 0.0, 0.75, 1.0], [0.0, 1.0, 0.5, 0.6, 0.0, 0.0, 1.0, 0.0, 0.0, 1.0], [0.0, 0.2, 0.0, 0.1, 1.0, 1.0, 1.0, 1.0, 0.75, 0.0], [0.0, 0.4, 0.0, 0.3, 1.0, 1.0, 1.0, 0.0, 0.75, 1.0], [1.0, 0.0, 0.0, 0.0, 0.6666666666666666, 1.0, 0.5, 0.0, 1.0, 0.0], [0.0, 0.4, 0.5, 0.6, 0.6666666666666666, 0.0, 1.0, 1.0, 1.0, 0.0], [1.0, 0.0, 0.5, 0.1, 1.0, 0.0, 0.5, 0.0, 0.75, 1.0], [0.0, 0.4, 0.0, 0.3, 0.3333333333333333, 0.0, 0.5, 0.0, 0.75, 1.0], [1.0, 0.0, 0.5, 0.6, 0.0, 0.0, 0.5, 0.0, 0.75, 1.0], [0.0, 0.0, 0.5, 0.0, 1.0, 1.0, 0.0, 0.0, 1.0, 1.0], [0.0, 0.0, 0.5, 0.5, 1.0, 0.0, 0.5, 0.0, 1.0, 0.0], [0.0, 1.0, 0.5, 0.0, 0.6666666666666666, 1.0, 1.0, 0.0, 0.5, 1.0], [0.0, 0.0, 0.5, 0.5, 1.0, 0.0, 0.5, 0.0, 0.75, 0.0], [0.0, 0.0, 0.5, 0.8, 1.0, 1.0, 1.0, 0.0, 0.75, 1.0], [0.0, 0.4, 0.0, 0.1, 1.0, 1.0, 1.0, 0.0, 1.0, 1.0], [0.0, 1.0, 0.5, 0.9, 1.0, 1.0, 1.0, 0.0, 0.0, 1.0], [1.0, 0.0, 0.5, 0.3, 1.0, 1.0, 0.5, 1.0, 0.75, 1.0], [1.0, 0.2, 0.0, 0.2, 1.0, 1.0, 0.0, 0.0, 0.0, 0.0], [0.0, 0.4, 0.0, 0.8, 1.0, 1.0, 1.0, 0.0, 1.0, 1.0], [0.0, 0.2, 0.0, 0.6, 1.0, 1.0, 1.0, 1.0, 0.75, 1.0], [0.0, 0.0, 0.5, 0.9, 1.0, 1.0, 0.0, 0.0, 0.75, 1.0], [0.0, 0.0, 0.5, 0.0, 1.0, 1.0, 1.0, 0.0, 0.75, 1.0], [0.0, 0.0, 0.5, 0.0, 1.0, 1.0, 1.0, 1.0, 1.0, 1.0], [1.0, 0.2, 0.0, 0.0, 0.16666666666666666, 0.0, 0.5, 1.0, 1.0, 0.0], [0.0, 0.4, 1.0, 0.6, 1.0, 1.0, 0.5, 0.0, 0.75, 1.0], [0.0, 0.0, 0.5, 0.5, 0.8333333333333334, 0.0, 1.0, 0.0, 0.0, 0.0]]\n",
            "27\n",
            "[[0.0, 0.4, 0.5, 0.8, 1.0, 1.0, 1.0, 0.0, 0.75, 1.0], [0.0, 0.0, 0.5, 0.3, 1.0, 1.0, 1.0, 0.0, 0.75, 1.0], [1.0, 0.0, 0.5, 0.6, 1.0, 1.0, 0.5, 0.0, 0.0, 1.0], [0.0, 0.4, 0.0, 0.8, 1.0, 1.0, 1.0, 1.0, 1.0, 1.0], [1.0, 0.4, 0.0, 0.6, 0.0, 0.0, 0.5, 1.0, 0.25, 1.0], [0.0, 0.2, 0.0, 0.6, 1.0, 1.0, 0.0, 0.0, 0.75, 1.0], [0.0, 0.2, 0.0, 0.1, 1.0, 1.0, 1.0, 1.0, 1.0, 1.0], [0.0, 0.2, 0.0, 0.8, 1.0, 1.0, 0.0, 1.0, 1.0, 1.0], [0.0, 0.0, 0.5, 0.0, 0.0, 1.0, 1.0, 0.0, 1.0, 0.0], [0.0, 1.0, 0.5, 0.0, 1.0, 1.0, 0.5, 1.0, 0.5, 1.0], [0.0, 0.4, 0.5, 0.3, 0.6666666666666666, 1.0, 1.0, 0.0, 0.75, 0.0], [0.0, 0.6, 0.0, 0.9, 1.0, 1.0, 0.0, 0.0, 0.75, 1.0], [0.0, 0.0, 0.5, 0.5, 1.0, 1.0, 0.0, 1.0, 1.0, 1.0], [0.0, 0.4, 0.0, 0.9, 1.0, 1.0, 0.5, 1.0, 0.75, 1.0], [0.0, 0.2, 0.0, 0.0, 1.0, 1.0, 1.0, 1.0, 0.75, 1.0], [0.0, 1.0, 0.5, 0.3, 0.0, 0.0, 1.0, 0.0, 0.75, 0.0], [1.0, 1.0, 0.5, 0.6, 0.8333333333333334, 1.0, 1.0, 0.0, 0.75, 0.0], [1.0, 1.0, 0.5, 0.0, 0.6666666666666666, 0.0, 1.0, 1.0, 1.0, 1.0], [0.0, 0.2, 0.0, 0.3, 1.0, 1.0, 0.5, 0.0, 0.75, 1.0], [0.0, 0.6, 0.0, 1.0, 1.0, 1.0, 0.0, 1.0, 0.25, 1.0], [0.0, 0.0, 0.5, 0.3, 1.0, 1.0, 0.5, 0.0, 0.75, 0.0], [0.0, 0.0, 0.5, 1.0, 1.0, 1.0, 0.5, 1.0, 0.5, 1.0], [0.0, 0.2, 0.0, 0.6, 0.6666666666666666, 0.0, 0.5, 1.0, 1.0, 1.0], [1.0, 0.0, 0.5, 0.6, 0.3333333333333333, 0.0, 0.5, 1.0, 1.0, 1.0], [0.0, 0.6, 0.0, 0.8, 1.0, 1.0, 1.0, 1.0, 0.5, 1.0], [0.0, 0.0, 0.5, 0.6, 1.0, 1.0, 1.0, 0.0, 0.0, 0.0], [0.0, 0.2, 1.0, 0.6, 1.0, 1.0, 0.0, 1.0, 1.0, 1.0]]\n",
            "27\n",
            "[[1.0, 1.0, 0.5, 0.0, 1.0, 1.0, 0.5, 1.0, 0.75, 0.0], [1.0, 0.2, 0.0, 0.6, 1.0, 1.0, 0.5, 0.0, 0.5, 1.0], [1.0, 1.0, 0.5, 0.6, 0.6666666666666666, 1.0, 0.5, 0.0, 0.75, 0.0], [0.0, 0.4, 0.0, 0.5, 0.3333333333333333, 1.0, 0.5, 1.0, 1.0, 1.0], [1.0, 0.0, 0.0, 0.6, 0.6666666666666666, 1.0, 0.5, 1.0, 1.0, 1.0], [0.0, 0.4, 0.0, 0.3, 1.0, 1.0, 0.5, 1.0, 0.0, 1.0], [0.0, 0.0, 0.5, 0.6, 1.0, 1.0, 1.0, 1.0, 0.25, 1.0], [0.0, 0.4, 0.0, 0.0, 0.6666666666666666, 0.0, 1.0, 0.0, 0.75, 1.0], [0.0, 0.4, 0.0, 0.0, 1.0, 0.0, 1.0, 0.0, 0.75, 1.0], [0.0, 0.4, 0.5, 0.0, 1.0, 1.0, 0.0, 1.0, 1.0, 1.0], [0.0, 0.4, 0.0, 0.1, 1.0, 1.0, 0.0, 0.0, 0.5, 1.0], [0.0, 0.2, 0.0, 0.1, 1.0, 1.0, 0.0, 1.0, 0.25, 1.0], [0.0, 0.4, 0.5, 0.3, 1.0, 1.0, 0.0, 0.0, 0.75, 1.0], [0.0, 0.4, 0.5, 0.3, 1.0, 0.0, 1.0, 1.0, 0.75, 1.0], [1.0, 1.0, 0.5, 1.0, 1.0, 1.0, 1.0, 0.0, 0.5, 1.0], [0.0, 0.0, 0.5, 0.0, 1.0, 1.0, 1.0, 0.0, 0.75, 1.0], [1.0, 0.0, 0.5, 0.3, 1.0, 1.0, 1.0, 0.0, 1.0, 1.0], [1.0, 0.4, 0.5, 0.5, 0.3333333333333333, 0.0, 0.5, 0.0, 0.0, 1.0], [0.0, 0.0, 0.5, 0.0, 0.6666666666666666, 1.0, 1.0, 0.0, 0.75, 1.0], [0.0, 0.2, 0.0, 0.6, 1.0, 1.0, 1.0, 1.0, 1.0, 0.0], [0.0, 0.2, 0.0, 0.4, 1.0, 1.0, 0.0, 1.0, 0.5, 1.0], [0.0, 0.4, 0.5, 0.8, 0.6666666666666666, 1.0, 0.0, 0.0, 0.75, 1.0], [1.0, 0.4, 0.0, 0.0, 1.0, 1.0, 1.0, 0.0, 0.5, 1.0], [1.0, 0.2, 0.0, 0.6, 1.0, 1.0, 0.5, 0.0, 0.75, 0.0], [0.0, 1.0, 0.5, 0.0, 0.6666666666666666, 0.0, 1.0, 0.0, 0.75, 0.0], [0.0, 0.4, 0.0, 0.0, 1.0, 1.0, 0.5, 1.0, 0.75, 1.0], [0.0, 0.0, 0.5, 0.0, 1.0, 1.0, 1.0, 1.0, 0.25, 1.0]]\n",
            "27\n",
            "[[0.0, 0.4, 0.0, 0.0, 1.0, 1.0, 0.0, 0.0, 1.0, 1.0], [1.0, 0.4, 0.5, 0.3, 1.0, 1.0, 1.0, 1.0, 0.0, 1.0], [1.0, 0.4, 0.0, 0.6, 0.0, 0.0, 1.0, 1.0, 0.25, 0.0], [1.0, 0.4, 0.0, 0.0, 1.0, 1.0, 1.0, 1.0, 0.75, 1.0], [0.0, 0.0, 0.5, 0.3, 1.0, 1.0, 1.0, 0.0, 1.0, 1.0], [0.0, 0.4, 0.5, 0.1, 1.0, 1.0, 0.0, 1.0, 1.0, 1.0], [0.0, 0.4, 0.0, 0.9, 0.6666666666666666, 0.0, 1.0, 1.0, 1.0, 1.0], [0.0, 0.4, 0.0, 0.1, 1.0, 1.0, 1.0, 0.0, 0.0, 1.0], [0.0, 0.2, 0.0, 0.8, 1.0, 1.0, 0.0, 0.0, 1.0, 1.0], [1.0, 0.0, 0.5, 0.1, 0.3333333333333333, 0.0, 0.5, 1.0, 1.0, 1.0], [1.0, 0.2, 0.0, 0.0, 1.0, 1.0, 0.0, 0.0, 0.75, 1.0], [0.0, 0.4, 0.5, 0.3, 0.6666666666666666, 0.0, 1.0, 1.0, 1.0, 0.0], [1.0, 0.0, 0.5, 0.6, 1.0, 0.0, 0.5, 0.0, 0.0, 1.0], [1.0, 0.2, 0.0, 0.5, 0.0, 0.0, 0.5, 1.0, 1.0, 1.0], [0.0, 0.0, 0.5, 1.0, 1.0, 1.0, 1.0, 0.0, 0.25, 1.0], [1.0, 0.4, 0.0, 0.0, 0.6666666666666666, 0.0, 0.5, 0.0, 0.0, 1.0], [1.0, 1.0, 0.5, 0.1, 0.0, 0.0, 0.5, 1.0, 1.0, 0.0], [1.0, 0.0, 0.5, 0.0, 0.6666666666666666, 0.0, 1.0, 1.0, 1.0, 0.0], [0.0, 0.4, 0.5, 0.9, 1.0, 1.0, 1.0, 1.0, 0.75, 1.0], [1.0, 0.4, 0.5, 0.1, 1.0, 1.0, 1.0, 1.0, 1.0, 1.0], [0.0, 0.2, 0.0, 0.6, 1.0, 1.0, 1.0, 1.0, 1.0, 1.0], [1.0, 0.0, 0.0, 0.3, 0.5, 0.0, 0.5, 1.0, 0.25, 0.0], [0.0, 0.6, 0.0, 0.9, 1.0, 1.0, 0.0, 0.0, 0.0, 1.0], [0.0, 0.0, 0.5, 0.8, 1.0, 1.0, 0.0, 0.0, 0.25, 1.0], [0.0, 0.2, 0.0, 0.8, 1.0, 1.0, 1.0, 1.0, 1.0, 1.0], [0.0, 0.2, 0.0, 0.3, 1.0, 1.0, 0.5, 0.0, 1.0, 1.0], [0.0, 0.0, 0.5, 0.0, 1.0, 1.0, 1.0, 0.0, 0.0, 1.0]]\n",
            "27\n",
            "[[0.0, 0.4, 0.5, 0.3, 1.0, 1.0, 1.0, 1.0, 1.0, 1.0], [0.0, 0.4, 0.0, 0.6, 1.0, 1.0, 0.0, 0.0, 0.0, 1.0], [0.0, 0.4, 0.0, 0.9, 1.0, 1.0, 1.0, 1.0, 1.0, 1.0], [1.0, 0.0, 0.5, 0.3, 0.8333333333333334, 0.0, 0.5, 0.0, 0.75, 1.0], [1.0, 1.0, 0.5, 0.3, 0.6666666666666666, 0.0, 0.5, 1.0, 1.0, 0.0], [0.0, 1.0, 0.5, 0.6, 1.0, 1.0, 1.0, 1.0, 0.75, 1.0], [0.0, 0.0, 0.5, 0.0, 1.0, 1.0, 1.0, 1.0, 0.5, 1.0], [0.0, 0.4, 0.0, 0.3, 1.0, 1.0, 0.0, 1.0, 0.25, 1.0], [0.0, 0.4, 0.0, 0.6, 1.0, 1.0, 0.5, 0.0, 1.0, 1.0], [0.0, 0.0, 0.5, 0.6, 1.0, 1.0, 1.0, 0.0, 0.25, 1.0], [0.0, 0.0, 0.5, 0.0, 1.0, 1.0, 0.0, 1.0, 0.25, 1.0], [1.0, 0.4, 0.0, 0.6, 0.8333333333333334, 0.0, 0.5, 1.0, 0.25, 0.0], [0.0, 0.2, 0.0, 0.6, 1.0, 1.0, 0.5, 1.0, 1.0, 1.0], [0.0, 1.0, 0.5, 1.0, 1.0, 1.0, 1.0, 0.0, 0.5, 1.0], [0.0, 0.0, 0.5, 0.0, 1.0, 1.0, 0.0, 0.0, 0.0, 1.0], [0.0, 0.4, 0.5, 0.3, 1.0, 1.0, 1.0, 1.0, 1.0, 1.0], [0.0, 0.2, 0.0, 0.6, 1.0, 1.0, 0.0, 1.0, 0.75, 1.0], [1.0, 0.2, 0.0, 0.6, 0.6666666666666666, 0.0, 1.0, 1.0, 0.5, 0.0], [0.0, 0.0, 0.5, 0.0, 1.0, 1.0, 0.5, 0.0, 1.0, 0.0], [0.0, 0.4, 0.0, 0.3, 1.0, 1.0, 0.0, 1.0, 1.0, 1.0], [0.0, 1.0, 0.5, 0.8, 1.0, 1.0, 0.0, 0.0, 1.0, 1.0], [0.0, 1.0, 0.5, 0.3, 1.0, 1.0, 1.0, 0.0, 1.0, 1.0], [0.0, 0.2, 0.0, 0.3, 1.0, 1.0, 1.0, 1.0, 1.0, 1.0], [0.0, 0.4, 0.5, 0.3, 1.0, 1.0, 1.0, 0.0, 0.25, 1.0], [0.0, 0.2, 0.0, 0.8, 1.0, 1.0, 0.0, 1.0, 0.75, 1.0], [0.0, 0.4, 0.0, 0.5, 1.0, 1.0, 0.5, 1.0, 0.75, 1.0], [0.0, 0.0, 0.5, 0.9, 1.0, 1.0, 1.0, 0.0, 1.0, 1.0]]\n",
            "27\n",
            "[[1.0, 0.4, 0.0, 0.5, 1.0, 1.0, 1.0, 1.0, 1.0, 1.0], [0.0, 0.2, 0.0, 0.0, 1.0, 1.0, 0.0, 1.0, 1.0, 1.0], [1.0, 0.0, 0.5, 0.1, 1.0, 1.0, 1.0, 1.0, 0.75, 1.0], [0.0, 0.4, 0.0, 0.8, 1.0, 1.0, 0.0, 1.0, 1.0, 1.0], [0.0, 0.2, 0.0, 0.8, 1.0, 1.0, 0.0, 1.0, 0.75, 1.0], [0.0, 0.4, 0.5, 0.8, 1.0, 1.0, 0.0, 1.0, 1.0, 1.0], [0.0, 0.2, 0.0, 0.9, 0.6666666666666666, 1.0, 1.0, 0.0, 0.75, 0.0], [0.0, 0.2, 0.0, 0.1, 1.0, 1.0, 0.0, 0.0, 0.75, 1.0], [1.0, 1.0, 0.5, 0.3, 0.0, 0.0, 0.5, 1.0, 0.25, 0.0], [0.0, 1.0, 0.5, 0.1, 1.0, 1.0, 0.0, 1.0, 1.0, 1.0], [0.0, 0.4, 0.0, 0.7, 1.0, 1.0, 0.0, 0.0, 0.0, 1.0], [0.0, 0.2, 0.0, 0.0, 1.0, 1.0, 1.0, 0.0, 0.75, 1.0], [0.0, 0.2, 0.0, 0.3, 1.0, 1.0, 1.0, 0.0, 1.0, 1.0], [1.0, 0.4, 0.5, 0.6, 1.0, 1.0, 0.5, 1.0, 0.0, 1.0], [1.0, 1.0, 0.5, 0.1, 1.0, 1.0, 0.0, 0.0, 1.0, 1.0], [0.0, 0.4, 0.0, 0.1, 1.0, 1.0, 0.0, 0.0, 0.5, 1.0], [0.0, 0.0, 0.5, 0.4, 1.0, 1.0, 0.0, 1.0, 1.0, 0.0], [0.0, 0.0, 0.5, 0.9, 0.6666666666666666, 0.0, 0.5, 0.0, 0.75, 0.0], [0.0, 0.4, 0.0, 1.0, 1.0, 1.0, 0.0, 0.0, 0.5, 1.0], [1.0, 0.0, 0.5, 0.3, 1.0, 1.0, 1.0, 1.0, 1.0, 0.0], [0.0, 0.4, 0.0, 0.9, 1.0, 1.0, 0.5, 0.0, 0.75, 1.0], [0.0, 0.4, 0.5, 0.1, 1.0, 1.0, 1.0, 0.0, 0.25, 1.0], [0.0, 0.0, 0.5, 0.8, 1.0, 1.0, 1.0, 0.0, 1.0, 1.0], [1.0, 0.0, 0.5, 0.3, 1.0, 1.0, 1.0, 0.0, 1.0, 1.0], [1.0, 0.2, 0.0, 0.9, 0.6666666666666666, 0.0, 0.5, 0.0, 1.0, 1.0], [0.0, 0.0, 0.5, 0.6, 1.0, 1.0, 0.5, 0.0, 0.0, 1.0], [0.0, 1.0, 0.5, 0.6, 1.0, 1.0, 0.5, 1.0, 1.0, 1.0]]\n",
            "34\n",
            "[[0.0, 0.0, 0.5, 0.8, 1.0, 1.0, 1.0, 1.0, 0.75, 1.0], [1.0, 0.4, 0.0, 0.6, 0.6666666666666666, 1.0, 0.5, 0.0, 0.75, 1.0], [0.0, 0.4, 0.0, 0.9, 1.0, 1.0, 0.5, 1.0, 0.0, 1.0], [1.0, 0.2, 0.0, 0.7, 1.0, 1.0, 0.5, 0.0, 0.75, 1.0], [1.0, 0.2, 0.0, 0.0, 0.6666666666666666, 1.0, 1.0, 1.0, 1.0, 0.0], [1.0, 0.0, 0.5, 0.0, 0.6666666666666666, 0.0, 1.0, 0.0, 0.0, 0.0], [1.0, 0.2, 0.0, 0.9, 1.0, 1.0, 1.0, 0.0, 1.0, 1.0], [0.0, 0.2, 0.0, 0.1, 1.0, 1.0, 1.0, 1.0, 1.0, 1.0], [0.0, 0.4, 0.5, 0.5, 1.0, 1.0, 1.0, 0.0, 0.75, 1.0], [0.0, 0.4, 0.5, 0.7, 1.0, 0.0, 1.0, 0.0, 0.75, 0.0], [0.0, 0.2, 0.0, 0.8, 1.0, 1.0, 1.0, 0.0, 0.75, 0.0], [0.0, 0.0, 0.0, 0.3, 1.0, 1.0, 1.0, 1.0, 1.0, 1.0], [1.0, 0.0, 0.5, 0.6, 1.0, 1.0, 0.0, 1.0, 1.0, 0.0], [0.0, 0.4, 0.5, 0.0, 0.6666666666666666, 0.0, 1.0, 1.0, 1.0, 1.0], [0.0, 0.0, 0.5, 0.3, 1.0, 1.0, 1.0, 0.0, 0.5, 1.0], [0.0, 0.4, 0.0, 0.0, 1.0, 1.0, 0.5, 1.0, 0.75, 1.0], [1.0, 1.0, 0.5, 0.6, 1.0, 1.0, 1.0, 1.0, 0.75, 1.0], [0.0, 0.0, 0.5, 0.6, 1.0, 1.0, 0.0, 0.0, 0.75, 1.0], [1.0, 1.0, 0.5, 0.5, 1.0, 1.0, 0.5, 1.0, 1.0, 1.0], [1.0, 0.0, 0.5, 0.5, 1.0, 1.0, 0.0, 0.0, 0.75, 1.0], [0.0, 0.0, 0.5, 0.8, 1.0, 1.0, 0.0, 0.0, 0.75, 1.0], [0.0, 1.0, 0.5, 0.3, 1.0, 1.0, 1.0, 1.0, 1.0, 1.0], [0.0, 0.4, 0.0, 0.5, 1.0, 1.0, 1.0, 1.0, 0.75, 1.0], [0.0, 0.0, 0.5, 0.6, 1.0, 1.0, 0.0, 1.0, 1.0, 1.0], [0.0, 0.0, 0.5, 0.3, 1.0, 1.0, 1.0, 1.0, 0.75, 0.0], [0.0, 0.0, 0.5, 0.2, 1.0, 1.0, 1.0, 1.0, 1.0, 0.0], [0.0, 0.0, 0.0, 0.0, 1.0, 1.0, 0.5, 1.0, 1.0, 1.0], [1.0, 0.4, 0.5, 0.3, 0.6666666666666666, 0.0, 0.5, 1.0, 1.0, 0.0], [0.0, 1.0, 0.5, 0.9, 0.6666666666666666, 1.0, 0.5, 0.0, 0.0, 0.0], [0.0, 0.2, 0.0, 0.1, 1.0, 1.0, 1.0, 0.0, 0.75, 1.0], [0.0, 0.0, 0.5, 0.6, 0.0, 1.0, 1.0, 1.0, 0.75, 1.0], [0.0, 0.4, 0.0, 0.5, 1.0, 1.0, 0.5, 1.0, 1.0, 1.0], [0.0, 1.0, 0.5, 0.4, 1.0, 1.0, 1.0, 1.0, 0.25, 1.0], [0.0, 0.0, 0.5, 0.8, 1.0, 1.0, 0.0, 0.0, 0.75, 1.0]]\n"
          ],
          "name": "stdout"
        }
      ]
    },
    {
      "cell_type": "code",
      "metadata": {
        "id": "LC5-Lz9Zz6Ka",
        "colab_type": "code",
        "colab": {
          "base_uri": "https://localhost:8080/",
          "height": 411
        },
        "outputId": "ce1c7200-1c28-43ef-e510-3f9a522b46df"
      },
      "source": [
        "print(\"Using Euclidean Distance...\\n\")\n",
        "for num_neighbors in num_neighbors_list:\n",
        "  scores = list()\n",
        "  for fold in norm_folds:\n",
        "    train_set = list(norm_folds)\n",
        "    train_set.remove(fold)\n",
        "    train_set = sum(train_set, [])\n",
        "    test_set = list()\n",
        "    for row in fold:\n",
        "      row_copy = list(row)\n",
        "      test_set.append(row_copy)\n",
        "      row_copy[-1] = None\n",
        "    \n",
        "    predictions = list()\n",
        "    for row in test_set:\n",
        "      distances = list()\n",
        "      for train_row in train_set:\n",
        "        dist = euclidean_distance(row, train_row)\n",
        "        distances.append((train_row, dist))\n",
        "      distances.sort(key=lambda tup: tup[1])\n",
        "      neighbors = list()\n",
        "      for i in range(num_neighbors):\n",
        "        neighbors.append(distances[i][0])\n",
        "      output_values = [row[-1] for row in neighbors]\n",
        "      output = max(set(output_values), key=output_values.count)\n",
        "      predictions.append(output)\n",
        "\n",
        "    actual = [row[-1] for row in fold]\n",
        "    accuracy = accuracy_metric(actual, predictions)\n",
        "    scores.append(accuracy)\n",
        "  print('Num of nbrs: %s' % num_neighbors)\n",
        "  print('Scores: %s' % scores)\n",
        "  print('Mean Accuracy: %.3f%%' % (sum(scores)/float(len(scores))))\n",
        "  print('\\n')"
      ],
      "execution_count": null,
      "outputs": [
        {
          "output_type": "stream",
          "text": [
            "Using Euclidean Distance...\n",
            "\n",
            "Num of nbrs: 1\n",
            "Scores: [77.77777777777779, 70.37037037037037, 59.25925925925925, 66.66666666666666, 62.96296296296296, 77.77777777777779, 77.77777777777779, 85.18518518518519, 88.88888888888889, 67.64705882352942]\n",
            "Mean Accuracy: 73.431%\n",
            "\n",
            "\n",
            "Num of nbrs: 3\n",
            "Scores: [81.48148148148148, 77.77777777777779, 66.66666666666666, 66.66666666666666, 66.66666666666666, 77.77777777777779, 85.18518518518519, 88.88888888888889, 92.5925925925926, 67.64705882352942]\n",
            "Mean Accuracy: 77.135%\n",
            "\n",
            "\n",
            "Num of nbrs: 5\n",
            "Scores: [74.07407407407408, 74.07407407407408, 66.66666666666666, 70.37037037037037, 74.07407407407408, 77.77777777777779, 88.88888888888889, 96.29629629629629, 85.18518518518519, 64.70588235294117]\n",
            "Mean Accuracy: 77.211%\n",
            "\n",
            "\n",
            "Num of nbrs: 7\n",
            "Scores: [74.07407407407408, 77.77777777777779, 74.07407407407408, 74.07407407407408, 66.66666666666666, 74.07407407407408, 88.88888888888889, 92.5925925925926, 88.88888888888889, 73.52941176470588]\n",
            "Mean Accuracy: 78.464%\n",
            "\n",
            "\n"
          ],
          "name": "stdout"
        }
      ]
    },
    {
      "cell_type": "markdown",
      "metadata": {
        "id": "V47wF8cQbH0y",
        "colab_type": "text"
      },
      "source": [
        "**knn using manhattan distance**"
      ]
    },
    {
      "cell_type": "code",
      "metadata": {
        "id": "ZR-Fs8_rO9Ko",
        "colab_type": "code",
        "colab": {
          "base_uri": "https://localhost:8080/",
          "height": 411
        },
        "outputId": "2ac54569-6fcd-4a6d-a9fb-e2eacefb4d69"
      },
      "source": [
        "print(\"Using Manhattan Distance...\\n\")\n",
        "for num_neighbors in num_neighbors_list:\n",
        "  scores = list()\n",
        "  for fold in folds:\n",
        "    train_set = list(folds)\n",
        "    train_set.remove(fold)\n",
        "    train_set = sum(train_set, [])\n",
        "    test_set = list()\n",
        "    for row in fold:\n",
        "      row_copy = list(row)\n",
        "      test_set.append(row_copy)\n",
        "      row_copy[-1] = None\n",
        "    \n",
        "    predictions = list()\n",
        "    for row in test_set:\n",
        "      distances = list()\n",
        "      for train_row in train_set:\n",
        "        dist = manhattan_distance(row, train_row)\n",
        "        distances.append((train_row, dist))\n",
        "      distances.sort(key=lambda tup: tup[1])\n",
        "      neighbors = list()\n",
        "      for i in range(num_neighbors):\n",
        "        neighbors.append(distances[i][0])\n",
        "      output_values = [row[-1] for row in neighbors]\n",
        "      output = max(set(output_values), key=output_values.count)\n",
        "      predictions.append(output)\n",
        "\n",
        "    actual = [row[-1] for row in fold]\n",
        "    accuracy = accuracy_metric(actual, predictions)\n",
        "    scores.append(accuracy)\n",
        "\n",
        "  print('Num of nbrs: %s' % num_neighbors)\n",
        "  print('Scores: %s' % scores)\n",
        "  print('Mean Accuracy: %.3f%%' % (sum(scores)/float(len(scores))))\n",
        "  print('\\n')"
      ],
      "execution_count": null,
      "outputs": [
        {
          "output_type": "stream",
          "text": [
            "Using Manhattan Distance...\n",
            "\n",
            "Num of nbrs: 1\n",
            "Scores: [74.07407407407408, 70.37037037037037, 62.96296296296296, 62.96296296296296, 70.37037037037037, 85.18518518518519, 77.77777777777779, 74.07407407407408, 88.88888888888889, 73.52941176470588]\n",
            "Mean Accuracy: 74.020%\n",
            "\n",
            "\n",
            "Num of nbrs: 3\n",
            "Scores: [70.37037037037037, 66.66666666666666, 70.37037037037037, 70.37037037037037, 70.37037037037037, 81.48148148148148, 85.18518518518519, 85.18518518518519, 88.88888888888889, 67.64705882352942]\n",
            "Mean Accuracy: 75.654%\n",
            "\n",
            "\n",
            "Num of nbrs: 5\n",
            "Scores: [74.07407407407408, 70.37037037037037, 66.66666666666666, 59.25925925925925, 74.07407407407408, 81.48148148148148, 85.18518518518519, 81.48148148148148, 88.88888888888889, 70.58823529411765]\n",
            "Mean Accuracy: 75.207%\n",
            "\n",
            "\n",
            "Num of nbrs: 7\n",
            "Scores: [70.37037037037037, 70.37037037037037, 74.07407407407408, 70.37037037037037, 70.37037037037037, 81.48148148148148, 81.48148148148148, 85.18518518518519, 85.18518518518519, 70.58823529411765]\n",
            "Mean Accuracy: 75.948%\n",
            "\n",
            "\n"
          ],
          "name": "stdout"
        }
      ]
    },
    {
      "cell_type": "markdown",
      "metadata": {
        "id": "rKDho4LLeL1D",
        "colab_type": "text"
      },
      "source": [
        "**knn using minkowski distance**"
      ]
    },
    {
      "cell_type": "code",
      "metadata": {
        "id": "TyeS_T2zcNuA",
        "colab_type": "code",
        "colab": {
          "base_uri": "https://localhost:8080/",
          "height": 411
        },
        "outputId": "8092c50b-fa5d-4894-a60d-acc960f37b71"
      },
      "source": [
        "print(\"Using Minkowski Distance...\\n\")\n",
        "for num_neighbors in num_neighbors_list:\n",
        "  scores = list()\n",
        "  for fold in folds:\n",
        "    train_set = list(folds)\n",
        "    train_set.remove(fold)\n",
        "    train_set = sum(train_set, [])\n",
        "    test_set = list()\n",
        "    for row in fold:\n",
        "      row_copy = list(row)\n",
        "      test_set.append(row_copy)\n",
        "      row_copy[-1] = None\n",
        "    \n",
        "    predictions = list()\n",
        "    for row in test_set:\n",
        "      distances = list()\n",
        "      for train_row in train_set:\n",
        "        dist = minkowski_distance(row, train_row)\n",
        "        distances.append((train_row, dist))\n",
        "      distances.sort(key=lambda tup: tup[1])\n",
        "      neighbors = list()\n",
        "      for i in range(num_neighbors):\n",
        "        neighbors.append(distances[i][0])\n",
        "      output_values = [row[-1] for row in neighbors]\n",
        "      output = max(set(output_values), key=output_values.count)\n",
        "      predictions.append(output)\n",
        "\n",
        "    actual = [row[-1] for row in fold]\n",
        "    accuracy = accuracy_metric(actual, predictions)\n",
        "    scores.append(accuracy)\n",
        "\n",
        "  print('Num of nbrs: %s' % num_neighbors)\n",
        "  print('Scores: %s' % scores)\n",
        "  print('Mean Accuracy: %.3f%%' % (sum(scores)/float(len(scores))))\n",
        "  print('\\n')"
      ],
      "execution_count": null,
      "outputs": [
        {
          "output_type": "stream",
          "text": [
            "Using Minkowski Distance...\n",
            "\n",
            "Num of nbrs: 1\n",
            "Scores: [74.07407407407408, 74.07407407407408, 66.66666666666666, 62.96296296296296, 74.07407407407408, 85.18518518518519, 74.07407407407408, 81.48148148148148, 85.18518518518519, 76.47058823529412]\n",
            "Mean Accuracy: 75.425%\n",
            "\n",
            "\n",
            "Num of nbrs: 3\n",
            "Scores: [81.48148148148148, 70.37037037037037, 62.96296296296296, 62.96296296296296, 77.77777777777779, 77.77777777777779, 85.18518518518519, 85.18518518518519, 88.88888888888889, 76.47058823529412]\n",
            "Mean Accuracy: 76.906%\n",
            "\n",
            "\n",
            "Num of nbrs: 5\n",
            "Scores: [77.77777777777779, 70.37037037037037, 59.25925925925925, 62.96296296296296, 77.77777777777779, 77.77777777777779, 81.48148148148148, 85.18518518518519, 85.18518518518519, 73.52941176470588]\n",
            "Mean Accuracy: 75.131%\n",
            "\n",
            "\n",
            "Num of nbrs: 7\n",
            "Scores: [77.77777777777779, 70.37037037037037, 70.37037037037037, 70.37037037037037, 77.77777777777779, 81.48148148148148, 77.77777777777779, 85.18518518518519, 85.18518518518519, 64.70588235294117]\n",
            "Mean Accuracy: 76.100%\n",
            "\n",
            "\n"
          ],
          "name": "stdout"
        }
      ]
    },
    {
      "cell_type": "markdown",
      "metadata": {
        "id": "MY0Y-AP7lGFS",
        "colab_type": "text"
      },
      "source": [
        "**knn using hamming distance**"
      ]
    },
    {
      "cell_type": "code",
      "metadata": {
        "id": "0XTsVDd8g9VV",
        "colab_type": "code",
        "colab": {
          "base_uri": "https://localhost:8080/",
          "height": 391
        },
        "outputId": "b3c6e8ff-67f9-4a35-d7e2-db3e4d75698d"
      },
      "source": [
        "print(\"Using Hamming Distance...\\n\")\n",
        "for num_neighbors in num_neighbors_list:\n",
        "  scores = list()\n",
        "  for fold in folds:\n",
        "    train_set = list(folds)\n",
        "    train_set.remove(fold)\n",
        "    train_set = sum(train_set, [])\n",
        "    test_set = list()\n",
        "    for row in fold:\n",
        "      row_copy = list(row)\n",
        "      test_set.append(row_copy)\n",
        "      row_copy[-1] = None\n",
        "    \n",
        "    predictions = list()\n",
        "    for row in test_set:\n",
        "      distances = list()\n",
        "      for train_row in train_set:\n",
        "        dist = hamming_distance(row, train_row)\n",
        "        distances.append((train_row, dist))\n",
        "      distances.sort(key=lambda tup: tup[1])\n",
        "      neighbors = list()\n",
        "      for i in range(num_neighbors):\n",
        "        neighbors.append(distances[i][0])\n",
        "      output_values = [row[-1] for row in neighbors]\n",
        "      output = max(set(output_values), key=output_values.count)\n",
        "      predictions.append(output)\n",
        "\n",
        "    actual = [row[-1] for row in fold]\n",
        "    accuracy = accuracy_metric(actual, predictions)\n",
        "    scores.append(accuracy)\n",
        "\n",
        "  print('Num of nbrs: %s' % num_neighbors)\n",
        "  print('Scores: %s' % scores)\n",
        "  print('Mean Accuracy: %.3f%%' % (sum(scores)/float(len(scores))))\n",
        "  print('\\n')"
      ],
      "execution_count": null,
      "outputs": [
        {
          "output_type": "stream",
          "text": [
            "Using Hamming Distance...\n",
            "\n",
            "Num of nbrs: 1\n",
            "Scores: [89.28571428571429, 71.42857142857143, 60.71428571428571, 64.28571428571429, 75.0, 82.14285714285714, 64.28571428571429, 82.14285714285714, 85.71428571428571, 73.52941176470588]\n",
            "Mean Accuracy: 74.853%\n",
            "\n",
            "\n",
            "Num of nbrs: 3\n",
            "Scores: [82.14285714285714, 75.0, 67.85714285714286, 67.85714285714286, 78.57142857142857, 67.85714285714286, 75.0, 78.57142857142857, 82.14285714285714, 79.41176470588235]\n",
            "Mean Accuracy: 75.441%\n",
            "\n",
            "\n",
            "Num of nbrs: 5\n",
            "Scores: [75.0, 78.57142857142857, 53.57142857142857, 67.85714285714286, 78.57142857142857, 67.85714285714286, 75.0, 78.57142857142857, 82.14285714285714, 88.23529411764706]\n",
            "Mean Accuracy: 74.538%\n",
            "\n",
            "\n",
            "Num of nbrs: 7\n",
            "Scores: [75.0, 67.85714285714286, 57.14285714285714, 64.28571428571429, 78.57142857142857, 67.85714285714286, 75.0, 78.57142857142857, 82.14285714285714, 82.35294117647058]\n",
            "Mean Accuracy: 72.878%\n",
            "\n",
            "\n"
          ],
          "name": "stdout"
        }
      ]
    },
    {
      "cell_type": "code",
      "metadata": {
        "id": "x2pbYgfVk-z7",
        "colab_type": "code",
        "colab": {}
      },
      "source": [
        ""
      ],
      "execution_count": null,
      "outputs": []
    }
  ]
}